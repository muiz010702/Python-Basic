{
 "cells": [
  {
   "cell_type": "code",
   "execution_count": 1,
   "metadata": {},
   "outputs": [],
   "source": [
    "# mempersiapkan module yang diperlukan\n",
    "import pandas as pd\n",
    "import numpy as np\n",
    "import matplotlib.pyplot as plt"
   ]
  },
  {
   "cell_type": "markdown",
   "metadata": {},
   "source": [
    "Fungtion and Maps\n",
    "\n",
    "Dalam tutorial terakhir, kita mempelajari cara memilih data yang relevan dari DataFrame atau Seri. Memilih data yang tepat dari representasi data kami sangat penting untuk menyelesaikan pekerjaan, seperti yang kami tunjukkan dalam latihan.\n",
    "\n",
    "Namun, data tidak selalu keluar dari memori dalam format yang kita inginkan. Kadang-kadang kita harus melakukan lebih banyak pekerjaan sendiri untuk memformat ulang untuk tugas yang ada. Tutorial ini akan mencakup berbagai operasi yang dapat kita terapkan pada data kita untuk mendapatkan masukan yang \"tepat\".\n",
    "\n",
    "Kami akan menggunakan data olimpic untuk demonstrasi."
   ]
  },
  {
   "cell_type": "code",
   "execution_count": 2,
   "metadata": {},
   "outputs": [
    {
     "data": {
      "text/html": [
       "<div>\n",
       "<style scoped>\n",
       "    .dataframe tbody tr th:only-of-type {\n",
       "        vertical-align: middle;\n",
       "    }\n",
       "\n",
       "    .dataframe tbody tr th {\n",
       "        vertical-align: top;\n",
       "    }\n",
       "\n",
       "    .dataframe thead th {\n",
       "        text-align: right;\n",
       "    }\n",
       "</style>\n",
       "<table border=\"1\" class=\"dataframe\">\n",
       "  <thead>\n",
       "    <tr style=\"text-align: right;\">\n",
       "      <th></th>\n",
       "      <th>Rank</th>\n",
       "      <th>Country</th>\n",
       "      <th>Country Code</th>\n",
       "      <th>Gold</th>\n",
       "      <th>Silver</th>\n",
       "      <th>Bronze</th>\n",
       "      <th>Total</th>\n",
       "    </tr>\n",
       "  </thead>\n",
       "  <tbody>\n",
       "    <tr>\n",
       "      <th>0</th>\n",
       "      <td>1</td>\n",
       "      <td>United States</td>\n",
       "      <td>US</td>\n",
       "      <td>40</td>\n",
       "      <td>44</td>\n",
       "      <td>42</td>\n",
       "      <td>126</td>\n",
       "    </tr>\n",
       "    <tr>\n",
       "      <th>1</th>\n",
       "      <td>2</td>\n",
       "      <td>China</td>\n",
       "      <td>CHN</td>\n",
       "      <td>40</td>\n",
       "      <td>27</td>\n",
       "      <td>24</td>\n",
       "      <td>91</td>\n",
       "    </tr>\n",
       "    <tr>\n",
       "      <th>2</th>\n",
       "      <td>3</td>\n",
       "      <td>Japan</td>\n",
       "      <td>JPN</td>\n",
       "      <td>20</td>\n",
       "      <td>12</td>\n",
       "      <td>13</td>\n",
       "      <td>45</td>\n",
       "    </tr>\n",
       "    <tr>\n",
       "      <th>3</th>\n",
       "      <td>4</td>\n",
       "      <td>Australia</td>\n",
       "      <td>AUS</td>\n",
       "      <td>18</td>\n",
       "      <td>19</td>\n",
       "      <td>16</td>\n",
       "      <td>53</td>\n",
       "    </tr>\n",
       "    <tr>\n",
       "      <th>4</th>\n",
       "      <td>5</td>\n",
       "      <td>France</td>\n",
       "      <td>FRA</td>\n",
       "      <td>16</td>\n",
       "      <td>26</td>\n",
       "      <td>22</td>\n",
       "      <td>64</td>\n",
       "    </tr>\n",
       "    <tr>\n",
       "      <th>...</th>\n",
       "      <td>...</td>\n",
       "      <td>...</td>\n",
       "      <td>...</td>\n",
       "      <td>...</td>\n",
       "      <td>...</td>\n",
       "      <td>...</td>\n",
       "      <td>...</td>\n",
       "    </tr>\n",
       "    <tr>\n",
       "      <th>86</th>\n",
       "      <td>84</td>\n",
       "      <td>Peru</td>\n",
       "      <td>PER</td>\n",
       "      <td>0</td>\n",
       "      <td>0</td>\n",
       "      <td>1</td>\n",
       "      <td>1</td>\n",
       "    </tr>\n",
       "    <tr>\n",
       "      <th>87</th>\n",
       "      <td>84</td>\n",
       "      <td>Qatar</td>\n",
       "      <td>QAT</td>\n",
       "      <td>0</td>\n",
       "      <td>0</td>\n",
       "      <td>1</td>\n",
       "      <td>1</td>\n",
       "    </tr>\n",
       "    <tr>\n",
       "      <th>88</th>\n",
       "      <td>84</td>\n",
       "      <td>Singapore</td>\n",
       "      <td>SIN</td>\n",
       "      <td>0</td>\n",
       "      <td>0</td>\n",
       "      <td>1</td>\n",
       "      <td>1</td>\n",
       "    </tr>\n",
       "    <tr>\n",
       "      <th>89</th>\n",
       "      <td>84</td>\n",
       "      <td>Slovakia</td>\n",
       "      <td>SVK</td>\n",
       "      <td>0</td>\n",
       "      <td>0</td>\n",
       "      <td>1</td>\n",
       "      <td>1</td>\n",
       "    </tr>\n",
       "    <tr>\n",
       "      <th>90</th>\n",
       "      <td>84</td>\n",
       "      <td>Zambia</td>\n",
       "      <td>ZAM</td>\n",
       "      <td>0</td>\n",
       "      <td>0</td>\n",
       "      <td>1</td>\n",
       "      <td>1</td>\n",
       "    </tr>\n",
       "  </tbody>\n",
       "</table>\n",
       "<p>91 rows × 7 columns</p>\n",
       "</div>"
      ],
      "text/plain": [
       "    Rank        Country Country Code  Gold  Silver  Bronze  Total\n",
       "0      1  United States           US    40      44      42    126\n",
       "1      2          China          CHN    40      27      24     91\n",
       "2      3          Japan          JPN    20      12      13     45\n",
       "3      4      Australia          AUS    18      19      16     53\n",
       "4      5         France          FRA    16      26      22     64\n",
       "..   ...            ...          ...   ...     ...     ...    ...\n",
       "86    84           Peru          PER     0       0       1      1\n",
       "87    84          Qatar          QAT     0       0       1      1\n",
       "88    84      Singapore          SIN     0       0       1      1\n",
       "89    84       Slovakia          SVK     0       0       1      1\n",
       "90    84         Zambia          ZAM     0       0       1      1\n",
       "\n",
       "[91 rows x 7 columns]"
      ]
     },
     "execution_count": 2,
     "metadata": {},
     "output_type": "execute_result"
    }
   ],
   "source": [
    "# mempersiapkan dataset yang diperlukan\n",
    "Data = pd.read_csv('C:\\Latihan\\Latihan\\Python\\Sample Data\\olympics2024.csv')\n",
    "Data"
   ]
  },
  {
   "cell_type": "markdown",
   "metadata": {},
   "source": [
    "Summary Fungtion\n",
    "\n",
    "Pandas menyediakan banyak \"fungsi ringkasan\" sederhana (bukan nama resmi) yang menyusun ulang data dengan cara yang berguna. Misalnya, pertimbangkan metode deskripsikan():"
   ]
  },
  {
   "cell_type": "code",
   "execution_count": 3,
   "metadata": {},
   "outputs": [
    {
     "data": {
      "text/plain": [
       "count    91.000000\n",
       "mean      3.604396\n",
       "std       6.990278\n",
       "min       0.000000\n",
       "25%       0.000000\n",
       "50%       1.000000\n",
       "75%       3.000000\n",
       "max      40.000000\n",
       "Name: Gold, dtype: float64"
      ]
     },
     "execution_count": 3,
     "metadata": {},
     "output_type": "execute_result"
    }
   ],
   "source": [
    "# contoh 1\n",
    "\n",
    "Data.Gold.describe()\n",
    "# fungsi ini digunakan untuk menghasilkan ringkasan statistik dari kolom tertentu"
   ]
  },
  {
   "cell_type": "markdown",
   "metadata": {},
   "source": [
    "Metode ini menghasilkan ringkasan tingkat tinggi dari atribut kolom tertentu. Ini peka terhadap tipe, artinya keluarannya berubah berdasarkan tipe data masukan. Output di atas hanya masuk akal untuk data numerik; untuk data string inilah yang kami dapatkan:"
   ]
  },
  {
   "cell_type": "code",
   "execution_count": 4,
   "metadata": {},
   "outputs": [
    {
     "data": {
      "text/plain": [
       "count                91\n",
       "unique               91\n",
       "top       United States\n",
       "freq                  1\n",
       "Name: Country, dtype: object"
      ]
     },
     "execution_count": 4,
     "metadata": {},
     "output_type": "execute_result"
    }
   ],
   "source": [
    "# contoh 2\n",
    "\n",
    "Data.Country.describe()\n",
    "# fungsi ini digunakan untuk menghasilkan ringkasan statistik dari kolom tertentu dengan tipe\n",
    "# data string atau teks"
   ]
  },
  {
   "cell_type": "markdown",
   "metadata": {},
   "source": [
    "Jika Anda ingin mendapatkan statistik ringkasan sederhana tertentu tentang kolom di DataFrame atau Seri, biasanya ada fungsi pandas yang membantu mewujudkannya.\n",
    "\n",
    "Misalnya, untuk melihat rata-rata poin yang diberikan (misalnya, seberapa baik nilai rata-rata gold), kita dapat menggunakan fungsi mean():"
   ]
  },
  {
   "cell_type": "code",
   "execution_count": 5,
   "metadata": {},
   "outputs": [
    {
     "data": {
      "text/plain": [
       "3.6043956043956045"
      ]
     },
     "execution_count": 5,
     "metadata": {},
     "output_type": "execute_result"
    }
   ],
   "source": [
    "# contoh 3\n",
    "Data.Gold.mean()\n",
    "# fungsi ini digunakan untuk menghitung nilai rata rata dalam suatu kolom"
   ]
  },
  {
   "cell_type": "markdown",
   "metadata": {},
   "source": [
    "untuk melihat daftar kolom yang mempunya tipe data bersifat unik dapat menggunakan sintaks seperti \n",
    "dibawah ini."
   ]
  },
  {
   "cell_type": "code",
   "execution_count": 6,
   "metadata": {},
   "outputs": [
    {
     "data": {
      "text/plain": [
       "array(['United States', 'China', 'Japan', 'Australia', 'France',\n",
       "       'Netherlands', 'Great Britain', 'South Korea', 'Italy', 'Germany',\n",
       "       'New Zealand', 'Canada', 'Uzbekistan', 'Hungary', 'Spain',\n",
       "       'Sweden', 'Kenya', 'Norway', 'Ireland', 'Brazil', 'Iran',\n",
       "       'Ukraine', 'Romania', 'Georgia', 'Belgium', 'Bulgaria', 'Serbia',\n",
       "       'Czech Republic', 'Denmark', 'Azerbaijan', 'Croatia', 'Cuba',\n",
       "       'Bahrain', 'Slovenia', 'Chinese Taipei', 'Austria', 'Hong Kong',\n",
       "       'Philippines', 'Algeria', 'Indonesia', 'Israel', 'Poland',\n",
       "       'Kazakhstan', 'Jamaica', 'South Africa', 'Thailand', 'Ethiopia',\n",
       "       'Switzerland', 'Ecuador', 'Portugal', 'Greece', 'Argentina',\n",
       "       'Egypt', 'Tunisia', 'Botswana', 'Chile', 'St Lucia', 'Uganda',\n",
       "       'Dominican Republic', 'Guatemala', 'Morocco', 'Dominica',\n",
       "       'Pakistan', 'Turkey', 'Mexico', 'Armenia', 'Colombia',\n",
       "       'North Korea', 'Kyrgyzstan', 'Lithuania', 'India', 'Moldova',\n",
       "       'Kosovo', 'Cyprus', 'Fiji', 'Jordan', 'Mongolia', 'Panama',\n",
       "       'Tajikistan', 'Albania', 'Grenada', 'Malaysia', 'Puerto Rico',\n",
       "       'Cape Verde', 'Ivory Coast', 'Refugee Olympic Team', 'Peru',\n",
       "       'Qatar', 'Singapore', 'Slovakia', 'Zambia'], dtype=object)"
      ]
     },
     "execution_count": 6,
     "metadata": {},
     "output_type": "execute_result"
    }
   ],
   "source": [
    "# contoh 4\n",
    "\n",
    "Data.Country.unique()\n",
    "# fungsi ini digunakan untuk daftar kolom yang mempunya tipe data bersifat unik"
   ]
  },
  {
   "cell_type": "code",
   "execution_count": 7,
   "metadata": {},
   "outputs": [
    {
     "data": {
      "text/plain": [
       "Country\n",
       "United States     1\n",
       "Kyrgyzstan        1\n",
       "Colombia          1\n",
       "Armenia           1\n",
       "Mexico            1\n",
       "                 ..\n",
       "Denmark           1\n",
       "Czech Republic    1\n",
       "Serbia            1\n",
       "Bulgaria          1\n",
       "Zambia            1\n",
       "Name: count, Length: 91, dtype: int64"
      ]
     },
     "execution_count": 7,
     "metadata": {},
     "output_type": "execute_result"
    }
   ],
   "source": [
    "# contoh 5\n",
    "\n",
    "Data.Country.value_counts()\n"
   ]
  }
 ],
 "metadata": {
  "kernelspec": {
   "display_name": "Python 3",
   "language": "python",
   "name": "python3"
  },
  "language_info": {
   "codemirror_mode": {
    "name": "ipython",
    "version": 3
   },
   "file_extension": ".py",
   "mimetype": "text/x-python",
   "name": "python",
   "nbconvert_exporter": "python",
   "pygments_lexer": "ipython3",
   "version": "3.11.5"
  }
 },
 "nbformat": 4,
 "nbformat_minor": 2
}

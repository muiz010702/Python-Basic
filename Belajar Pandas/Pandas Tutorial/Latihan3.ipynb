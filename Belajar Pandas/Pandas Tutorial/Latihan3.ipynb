{
 "cells": [
  {
   "cell_type": "markdown",
   "metadata": {},
   "source": [
    "Belajar Pandas Dataframe"
   ]
  },
  {
   "cell_type": "code",
   "execution_count": 1,
   "metadata": {},
   "outputs": [
    {
     "name": "stderr",
     "output_type": "stream",
     "text": [
      "Matplotlib created a temporary cache directory at C:\\Users\\mmuiz\\AppData\\Local\\Temp\\matplotlib-ibpaaquc because the default path (C:\\Users\\mmuiz\\.matplotlib) is not a writable directory; it is highly recommended to set the MPLCONFIGDIR environment variable to a writable directory, in particular to speed up the import of Matplotlib and to better support multiprocessing.\n",
      "Matplotlib is building the font cache; this may take a moment.\n"
     ]
    }
   ],
   "source": [
    "# mempersiapkan module yang diperlukan\n",
    "import pandas as pd\n",
    "import numpy as np\n",
    "import matplotlib.pyplot as plt"
   ]
  },
  {
   "cell_type": "markdown",
   "metadata": {},
   "source": [
    "Apa itu pandas dataframe\n",
    "\n",
    "Pandas DataFrame adalah struktur data 2 dimensi, seperti array 2 dimensi, atau tabel dengan baris dan kolom."
   ]
  },
  {
   "cell_type": "code",
   "execution_count": 2,
   "metadata": {},
   "outputs": [
    {
     "name": "stdout",
     "output_type": "stream",
     "text": [
      "        Mobil  Harga\n",
      "0       Honda   3000\n",
      "1      Suzuki   2500\n",
      "2  Mitsubishi   3500\n"
     ]
    }
   ],
   "source": [
    "# contoh 1\n",
    "Data = {\n",
    "  \"Mobil\" : [\"Honda\", \"Suzuki\", \"Mitsubishi\"],\n",
    "  \"Harga\" : [3000, 2500, 3500]\n",
    "}\n",
    "\n",
    "MyData = pd.DataFrame(Data)\n",
    "\n",
    "print(MyData)"
   ]
  },
  {
   "cell_type": "markdown",
   "metadata": {},
   "source": [
    "Lokate Row atau temtukan/temukan bari tertentu\n",
    "\n",
    "Seperti yang Anda lihat dari hasil di atas, DataFrame seperti tabel dengan baris dan kolom.\n",
    "\n",
    "Panda menggunakan atribut loc untuk mengembalikan satu atau lebih baris tertentu"
   ]
  },
  {
   "cell_type": "code",
   "execution_count": 3,
   "metadata": {},
   "outputs": [
    {
     "name": "stdout",
     "output_type": "stream",
     "text": [
      "Mobil    Mitsubishi\n",
      "Harga          3500\n",
      "Name: 2, dtype: object\n"
     ]
    }
   ],
   "source": [
    "# Contoh 2\n",
    "Data = {\n",
    "  \"Mobil\" : [\"Honda\", \"Suzuki\", \"Mitsubishi\"],\n",
    "  \"Harga\" : [3000, 2500, 3500]\n",
    "}\n",
    "\n",
    "MyData = pd.DataFrame(Data)\n",
    "\n",
    "print(MyData.loc[2])"
   ]
  },
  {
   "cell_type": "code",
   "execution_count": 4,
   "metadata": {},
   "outputs": [
    {
     "name": "stdout",
     "output_type": "stream",
     "text": [
      "        Mobil  Harga\n",
      "2  Mitsubishi   3500\n",
      "0       Honda   3000\n"
     ]
    }
   ],
   "source": [
    "# contoh 3\n",
    "Data = {\n",
    "  \"Mobil\" : [\"Honda\", \"Suzuki\", \"Mitsubishi\"],\n",
    "  \"Harga\" : [3000, 2500, 3500]\n",
    "}\n",
    "\n",
    "MyData = pd.DataFrame(Data)\n",
    "\n",
    "print(MyData.loc[[2,0]])"
   ]
  },
  {
   "cell_type": "markdown",
   "metadata": {},
   "source": [
    "Penamaan Index\n",
    "\n",
    "Dengan argumen indeks, Anda dapat memberi nama indeks Anda sendiri."
   ]
  },
  {
   "cell_type": "code",
   "execution_count": 5,
   "metadata": {},
   "outputs": [
    {
     "name": "stdout",
     "output_type": "stream",
     "text": [
      "        Mobil  Harga\n",
      "1       Honda   3000\n",
      "2      Suzuki   2500\n",
      "3  Mitsubishi   3500\n"
     ]
    }
   ],
   "source": [
    "# contoh 4\n",
    "Data = {\n",
    "  \"Mobil\" : [\"Honda\", \"Suzuki\", \"Mitsubishi\"],\n",
    "  \"Harga\" : [3000, 2500, 3500]\n",
    "}\n",
    "\n",
    "MyData = pd.DataFrame(Data, index=[1,2,3])\n",
    "\n",
    "print(MyData)"
   ]
  }
 ],
 "metadata": {
  "kernelspec": {
   "display_name": "Python 3",
   "language": "python",
   "name": "python3"
  },
  "language_info": {
   "codemirror_mode": {
    "name": "ipython",
    "version": 3
   },
   "file_extension": ".py",
   "mimetype": "text/x-python",
   "name": "python",
   "nbconvert_exporter": "python",
   "pygments_lexer": "ipython3",
   "version": "3.11.5"
  }
 },
 "nbformat": 4,
 "nbformat_minor": 2
}

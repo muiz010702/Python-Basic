{
 "cells": [
  {
   "cell_type": "markdown",
   "metadata": {},
   "source": [
    "Mempelajari pandas data series \n",
    "\n",
    "pandas seri adalah sebuah data yang seperti data dalam bentuk kolom pada tabel"
   ]
  },
  {
   "cell_type": "code",
   "execution_count": 1,
   "metadata": {},
   "outputs": [
    {
     "name": "stderr",
     "output_type": "stream",
     "text": [
      "Matplotlib created a temporary cache directory at C:\\Users\\mmuiz\\AppData\\Local\\Temp\\matplotlib-wywbyisn because the default path (C:\\Users\\mmuiz\\.matplotlib) is not a writable directory; it is highly recommended to set the MPLCONFIGDIR environment variable to a writable directory, in particular to speed up the import of Matplotlib and to better support multiprocessing.\n"
     ]
    }
   ],
   "source": [
    "# melakukan import module yang dibutuhkan\n",
    "import pandas as pd\n",
    "import numpy as np\n",
    "import matplotlib.pyplot as plt"
   ]
  },
  {
   "cell_type": "code",
   "execution_count": 2,
   "metadata": {},
   "outputs": [
    {
     "name": "stdout",
     "output_type": "stream",
     "text": [
      "0     ikbal\n",
      "1    lukman\n",
      "2     nabil\n",
      "dtype: object\n"
     ]
    }
   ],
   "source": [
    "# Ini adalah array satu dimensi yang menyimpan data jenis apa pun.\n",
    "B = ['ikbal', 'lukman', 'nabil']\n",
    "\n",
    "data = pd.Series(B) # sintaks berikut digunakan untuk merubah array pada python ke dalam bentuk series\n",
    "\n",
    "print(data)\n"
   ]
  },
  {
   "cell_type": "markdown",
   "metadata": {},
   "source": [
    "Label pada pandas"
   ]
  },
  {
   "cell_type": "code",
   "execution_count": 3,
   "metadata": {},
   "outputs": [
    {
     "name": "stdout",
     "output_type": "stream",
     "text": [
      "lukman\n"
     ]
    }
   ],
   "source": [
    "# Ini adalah array satu dimensi yang menyimpan data jenis apa pun.\n",
    "B = ['ikbal', 'lukman', 'nabil']\n",
    "\n",
    "data = pd.Series(B) # sintaks berikut digunakan untuk merubah array pada python ke dalam bentuk series\n",
    "\n",
    "print(data[1]) # sintaks berikut digunakan untuk mengabil nilai dari indeks tertentu"
   ]
  },
  {
   "cell_type": "markdown",
   "metadata": {},
   "source": [
    "Membuat label pada dataset"
   ]
  },
  {
   "cell_type": "code",
   "execution_count": 4,
   "metadata": {},
   "outputs": [
    {
     "name": "stdout",
     "output_type": "stream",
     "text": [
      "x     ikbal\n",
      "y    lukman\n",
      "z     nabil\n",
      "dtype: object\n"
     ]
    }
   ],
   "source": [
    "B = ['ikbal', 'lukman', 'nabil']\n",
    "\n",
    "# sintkas berikut digunakan untuk memnberikan label atau nama dari dataset\n",
    "data = pd.Series(B, index=[\"x\", \"y\", \"z\"])  \n",
    "\n",
    "print(data)"
   ]
  }
 ],
 "metadata": {
  "kernelspec": {
   "display_name": "Python 3",
   "language": "python",
   "name": "python3"
  },
  "language_info": {
   "codemirror_mode": {
    "name": "ipython",
    "version": 3
   },
   "file_extension": ".py",
   "mimetype": "text/x-python",
   "name": "python",
   "nbconvert_exporter": "python",
   "pygments_lexer": "ipython3",
   "version": "3.11.5"
  }
 },
 "nbformat": 4,
 "nbformat_minor": 2
}

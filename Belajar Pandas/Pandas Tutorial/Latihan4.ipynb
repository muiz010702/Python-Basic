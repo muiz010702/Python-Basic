{
 "cells": [
  {
   "cell_type": "markdown",
   "metadata": {},
   "source": [
    "Belajar grouping(Pengelompokan)"
   ]
  },
  {
   "cell_type": "markdown",
   "metadata": {},
   "source": [
    "Pengenalan\n",
    "\n",
    "Peta memungkinkan kita mengubah data dalam nilai DataFrame atau Seri satu per satu untuk seluruh kolom. Namun, sering kali kita ingin mengelompokkan data kita, lalu melakukan sesuatu yang spesifik pada kelompok data tersebut.\n",
    "\n",
    "Seperti yang akan Anda pelajari, kami melakukan ini dengan operasi groupby(). Kami juga akan membahas beberapa topik tambahan, seperti cara yang lebih kompleks untuk mengindeks DataFrames Anda, serta cara mengurutkan data Anda."
   ]
  },
  {
   "cell_type": "code",
   "execution_count": 1,
   "metadata": {},
   "outputs": [
    {
     "name": "stderr",
     "output_type": "stream",
     "text": [
      "Matplotlib is building the font cache; this may take a moment.\n"
     ]
    }
   ],
   "source": [
    "# memperisapkan module yang perlu diperlukan\n",
    "import pandas as pd\n",
    "import numpy as np\n",
    "import matplotlib.pyplot as plt"
   ]
  },
  {
   "cell_type": "code",
   "execution_count": 2,
   "metadata": {},
   "outputs": [
    {
     "data": {
      "text/html": [
       "<div>\n",
       "<style scoped>\n",
       "    .dataframe tbody tr th:only-of-type {\n",
       "        vertical-align: middle;\n",
       "    }\n",
       "\n",
       "    .dataframe tbody tr th {\n",
       "        vertical-align: top;\n",
       "    }\n",
       "\n",
       "    .dataframe thead th {\n",
       "        text-align: right;\n",
       "    }\n",
       "</style>\n",
       "<table border=\"1\" class=\"dataframe\">\n",
       "  <thead>\n",
       "    <tr style=\"text-align: right;\">\n",
       "      <th></th>\n",
       "      <th>Rank</th>\n",
       "      <th>Country</th>\n",
       "      <th>Country Code</th>\n",
       "      <th>Gold</th>\n",
       "      <th>Silver</th>\n",
       "      <th>Bronze</th>\n",
       "      <th>Total</th>\n",
       "    </tr>\n",
       "  </thead>\n",
       "  <tbody>\n",
       "    <tr>\n",
       "      <th>0</th>\n",
       "      <td>1</td>\n",
       "      <td>United States</td>\n",
       "      <td>US</td>\n",
       "      <td>40</td>\n",
       "      <td>44</td>\n",
       "      <td>42</td>\n",
       "      <td>126</td>\n",
       "    </tr>\n",
       "    <tr>\n",
       "      <th>1</th>\n",
       "      <td>2</td>\n",
       "      <td>China</td>\n",
       "      <td>CHN</td>\n",
       "      <td>40</td>\n",
       "      <td>27</td>\n",
       "      <td>24</td>\n",
       "      <td>91</td>\n",
       "    </tr>\n",
       "    <tr>\n",
       "      <th>2</th>\n",
       "      <td>3</td>\n",
       "      <td>Japan</td>\n",
       "      <td>JPN</td>\n",
       "      <td>20</td>\n",
       "      <td>12</td>\n",
       "      <td>13</td>\n",
       "      <td>45</td>\n",
       "    </tr>\n",
       "    <tr>\n",
       "      <th>3</th>\n",
       "      <td>4</td>\n",
       "      <td>Australia</td>\n",
       "      <td>AUS</td>\n",
       "      <td>18</td>\n",
       "      <td>19</td>\n",
       "      <td>16</td>\n",
       "      <td>53</td>\n",
       "    </tr>\n",
       "    <tr>\n",
       "      <th>4</th>\n",
       "      <td>5</td>\n",
       "      <td>France</td>\n",
       "      <td>FRA</td>\n",
       "      <td>16</td>\n",
       "      <td>26</td>\n",
       "      <td>22</td>\n",
       "      <td>64</td>\n",
       "    </tr>\n",
       "    <tr>\n",
       "      <th>...</th>\n",
       "      <td>...</td>\n",
       "      <td>...</td>\n",
       "      <td>...</td>\n",
       "      <td>...</td>\n",
       "      <td>...</td>\n",
       "      <td>...</td>\n",
       "      <td>...</td>\n",
       "    </tr>\n",
       "    <tr>\n",
       "      <th>86</th>\n",
       "      <td>84</td>\n",
       "      <td>Peru</td>\n",
       "      <td>PER</td>\n",
       "      <td>0</td>\n",
       "      <td>0</td>\n",
       "      <td>1</td>\n",
       "      <td>1</td>\n",
       "    </tr>\n",
       "    <tr>\n",
       "      <th>87</th>\n",
       "      <td>84</td>\n",
       "      <td>Qatar</td>\n",
       "      <td>QAT</td>\n",
       "      <td>0</td>\n",
       "      <td>0</td>\n",
       "      <td>1</td>\n",
       "      <td>1</td>\n",
       "    </tr>\n",
       "    <tr>\n",
       "      <th>88</th>\n",
       "      <td>84</td>\n",
       "      <td>Singapore</td>\n",
       "      <td>SIN</td>\n",
       "      <td>0</td>\n",
       "      <td>0</td>\n",
       "      <td>1</td>\n",
       "      <td>1</td>\n",
       "    </tr>\n",
       "    <tr>\n",
       "      <th>89</th>\n",
       "      <td>84</td>\n",
       "      <td>Slovakia</td>\n",
       "      <td>SVK</td>\n",
       "      <td>0</td>\n",
       "      <td>0</td>\n",
       "      <td>1</td>\n",
       "      <td>1</td>\n",
       "    </tr>\n",
       "    <tr>\n",
       "      <th>90</th>\n",
       "      <td>84</td>\n",
       "      <td>Zambia</td>\n",
       "      <td>ZAM</td>\n",
       "      <td>0</td>\n",
       "      <td>0</td>\n",
       "      <td>1</td>\n",
       "      <td>1</td>\n",
       "    </tr>\n",
       "  </tbody>\n",
       "</table>\n",
       "<p>91 rows × 7 columns</p>\n",
       "</div>"
      ],
      "text/plain": [
       "    Rank        Country Country Code  Gold  Silver  Bronze  Total\n",
       "0      1  United States           US    40      44      42    126\n",
       "1      2          China          CHN    40      27      24     91\n",
       "2      3          Japan          JPN    20      12      13     45\n",
       "3      4      Australia          AUS    18      19      16     53\n",
       "4      5         France          FRA    16      26      22     64\n",
       "..   ...            ...          ...   ...     ...     ...    ...\n",
       "86    84           Peru          PER     0       0       1      1\n",
       "87    84          Qatar          QAT     0       0       1      1\n",
       "88    84      Singapore          SIN     0       0       1      1\n",
       "89    84       Slovakia          SVK     0       0       1      1\n",
       "90    84         Zambia          ZAM     0       0       1      1\n",
       "\n",
       "[91 rows x 7 columns]"
      ]
     },
     "execution_count": 2,
     "metadata": {},
     "output_type": "execute_result"
    }
   ],
   "source": [
    "# mempersiapkan dataset yang diperlukan\n",
    "Dataset = pd.read_csv('C:\\Latihan\\Latihan\\Python\\Sample Data\\olympics2024.csv')\n",
    "Dataset"
   ]
  },
  {
   "cell_type": "markdown",
   "metadata": {},
   "source": [
    "1. Groupwise analysis / Analisis kelompok\n",
    "\n",
    "Salah satu fungsi yang sering kami gunakan sejauh ini adalah fungsi value_counts(). Kita dapat meniru apa yang dilakukan value_counts() dengan melakukan hal berikut:"
   ]
  },
  {
   "cell_type": "code",
   "execution_count": 3,
   "metadata": {},
   "outputs": [
    {
     "data": {
      "text/plain": [
       "Total\n",
       "1      15\n",
       "2      11\n",
       "3       8\n",
       "4       9\n",
       "5       5\n",
       "6       6\n",
       "7       8\n",
       "8       4\n",
       "9       3\n",
       "10      2\n",
       "11      2\n",
       "12      2\n",
       "13      1\n",
       "18      1\n",
       "19      1\n",
       "20      2\n",
       "27      1\n",
       "32      1\n",
       "33      1\n",
       "34      1\n",
       "40      1\n",
       "45      1\n",
       "53      1\n",
       "64      1\n",
       "65      1\n",
       "91      1\n",
       "126     1\n",
       "Name: Total, dtype: int64"
      ]
     },
     "execution_count": 3,
     "metadata": {},
     "output_type": "execute_result"
    }
   ],
   "source": [
    "# contoh 1\n",
    "Dataset.groupby('Total').Total.count()\n",
    "# sintaks ini digunakan untuk menghasilkan jumlah kemunculan dari setiap nilai unik yang ada di kolom Total \n",
    "# dalam dataframe Dataset."
   ]
  },
  {
   "cell_type": "markdown",
   "metadata": {},
   "source": [
    "groupby() membuat grup ulasan yang memberikan nilai poin yang sama ke total pemberian. Kemudian, untuk masing-masing grup ini, kami mengambil kolom points() dan menghitung berapa kali kolom tersebut muncul. value_counts() hanyalah jalan pintas ke operasi groupby() ini.\n",
    "\n",
    "Kita dapat menggunakan salah satu fungsi ringkasan yang telah kita gunakan sebelumnya dengan data ini. Misalnya, untuk mendapatkan total terkecil di setiap kategori nilai poin, kita dapat melakukan hal berikut:"
   ]
  },
  {
   "cell_type": "code",
   "execution_count": 7,
   "metadata": {},
   "outputs": [
    {
     "data": {
      "text/plain": [
       "Country\n",
       "Albania            2\n",
       "Algeria            3\n",
       "Argentina          3\n",
       "Armenia            4\n",
       "Australia         53\n",
       "                ... \n",
       "Uganda             2\n",
       "Ukraine           12\n",
       "United States    126\n",
       "Uzbekistan        13\n",
       "Zambia             1\n",
       "Name: Total, Length: 91, dtype: int64"
      ]
     },
     "execution_count": 7,
     "metadata": {},
     "output_type": "execute_result"
    }
   ],
   "source": [
    "# contoh 2\n",
    "\n",
    "Dataset.groupby('Country').Total.min()"
   ]
  },
  {
   "cell_type": "markdown",
   "metadata": {},
   "source": [
    "2. Multi-indexes\n",
    "\n",
    "Dalam semua contoh yang telah kita lihat sejauh ini, kita telah bekerja dengan objek DataFrame atau Series dengan indeks label tunggal. groupby() sedikit berbeda karena, bergantung pada operasi yang kita jalankan, terkadang akan menghasilkan apa yang disebut multi-indeks.\n",
    "\n",
    "Multi-indeks berbeda dari indeks biasa karena memiliki beberapa tingkatan. Misalnya:"
   ]
  },
  {
   "cell_type": "code",
   "execution_count": 14,
   "metadata": {},
   "outputs": [
    {
     "data": {
      "text/plain": [
       "Country        Total\n",
       "Albania        2        1\n",
       "Algeria        3        1\n",
       "Argentina      3        1\n",
       "Armenia        4        1\n",
       "Australia      53       1\n",
       "                       ..\n",
       "Uganda         2        1\n",
       "Ukraine        12       1\n",
       "United States  126      1\n",
       "Uzbekistan     13       1\n",
       "Zambia         1        1\n",
       "Length: 91, dtype: int64"
      ]
     },
     "execution_count": 14,
     "metadata": {},
     "output_type": "execute_result"
    }
   ],
   "source": [
    "# contoh 3\n",
    "\n",
    "Data_Country = Dataset.groupby(['Country', 'Total']).size()\n",
    "Data_Country\n",
    "# sintaks diatas digunakan untuk digunakan untuk melakukan operasi pengelompokan pada sebuah dataframe \n",
    "# Dataset dengan beberapa kolom dan kemudian menghitung panjang deskripsi di setiap kelompok."
   ]
  },
  {
   "cell_type": "code",
   "execution_count": 15,
   "metadata": {},
   "outputs": [
    {
     "data": {
      "text/plain": [
       "pandas.core.indexes.multi.MultiIndex"
      ]
     },
     "execution_count": 15,
     "metadata": {},
     "output_type": "execute_result"
    }
   ],
   "source": [
    "# contoh 4\n",
    "\n",
    "Data_M = Data_Country.index\n",
    "type(Data_M)\n",
    "\n",
    "# intaks ini digunakan untuk mengakses indeks dari dataframe \n",
    "# Data_Country dan kemudian memeriksa tipe objek dari indeks tersebut."
   ]
  }
 ],
 "metadata": {
  "kernelspec": {
   "display_name": "Python 3",
   "language": "python",
   "name": "python3"
  },
  "language_info": {
   "codemirror_mode": {
    "name": "ipython",
    "version": 3
   },
   "file_extension": ".py",
   "mimetype": "text/x-python",
   "name": "python",
   "nbconvert_exporter": "python",
   "pygments_lexer": "ipython3",
   "version": "3.11.5"
  }
 },
 "nbformat": 4,
 "nbformat_minor": 2
}

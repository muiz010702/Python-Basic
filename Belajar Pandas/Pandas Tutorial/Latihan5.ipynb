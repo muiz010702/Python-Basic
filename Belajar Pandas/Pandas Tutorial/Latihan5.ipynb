{
 "cells": [
  {
   "cell_type": "markdown",
   "metadata": {},
   "source": [
    "Belajar Data Types dan Missing Value"
   ]
  },
  {
   "cell_type": "code",
   "execution_count": 1,
   "metadata": {},
   "outputs": [
    {
     "name": "stderr",
     "output_type": "stream",
     "text": [
      "Matplotlib created a temporary cache directory at C:\\Users\\mmuiz\\AppData\\Local\\Temp\\matplotlib-gsf9p2p4 because the default path (C:\\Users\\mmuiz\\.matplotlib) is not a writable directory; it is highly recommended to set the MPLCONFIGDIR environment variable to a writable directory, in particular to speed up the import of Matplotlib and to better support multiprocessing.\n",
      "Matplotlib is building the font cache; this may take a moment.\n"
     ]
    }
   ],
   "source": [
    "# mempersiapkan module yang diperlukan\n",
    "import pandas as pd\n",
    "import numpy as np\n",
    "import matplotlib.pyplot as plt"
   ]
  },
  {
   "cell_type": "code",
   "execution_count": 2,
   "metadata": {},
   "outputs": [
    {
     "data": {
      "text/html": [
       "<div>\n",
       "<style scoped>\n",
       "    .dataframe tbody tr th:only-of-type {\n",
       "        vertical-align: middle;\n",
       "    }\n",
       "\n",
       "    .dataframe tbody tr th {\n",
       "        vertical-align: top;\n",
       "    }\n",
       "\n",
       "    .dataframe thead th {\n",
       "        text-align: right;\n",
       "    }\n",
       "</style>\n",
       "<table border=\"1\" class=\"dataframe\">\n",
       "  <thead>\n",
       "    <tr style=\"text-align: right;\">\n",
       "      <th></th>\n",
       "      <th>Rank</th>\n",
       "      <th>Country</th>\n",
       "      <th>Country Code</th>\n",
       "      <th>Gold</th>\n",
       "      <th>Silver</th>\n",
       "      <th>Bronze</th>\n",
       "      <th>Total</th>\n",
       "    </tr>\n",
       "  </thead>\n",
       "  <tbody>\n",
       "    <tr>\n",
       "      <th>0</th>\n",
       "      <td>1</td>\n",
       "      <td>United States</td>\n",
       "      <td>US</td>\n",
       "      <td>40</td>\n",
       "      <td>44</td>\n",
       "      <td>42</td>\n",
       "      <td>126</td>\n",
       "    </tr>\n",
       "    <tr>\n",
       "      <th>1</th>\n",
       "      <td>2</td>\n",
       "      <td>China</td>\n",
       "      <td>CHN</td>\n",
       "      <td>40</td>\n",
       "      <td>27</td>\n",
       "      <td>24</td>\n",
       "      <td>91</td>\n",
       "    </tr>\n",
       "    <tr>\n",
       "      <th>2</th>\n",
       "      <td>3</td>\n",
       "      <td>Japan</td>\n",
       "      <td>JPN</td>\n",
       "      <td>20</td>\n",
       "      <td>12</td>\n",
       "      <td>13</td>\n",
       "      <td>45</td>\n",
       "    </tr>\n",
       "    <tr>\n",
       "      <th>3</th>\n",
       "      <td>4</td>\n",
       "      <td>Australia</td>\n",
       "      <td>AUS</td>\n",
       "      <td>18</td>\n",
       "      <td>19</td>\n",
       "      <td>16</td>\n",
       "      <td>53</td>\n",
       "    </tr>\n",
       "    <tr>\n",
       "      <th>4</th>\n",
       "      <td>5</td>\n",
       "      <td>France</td>\n",
       "      <td>FRA</td>\n",
       "      <td>16</td>\n",
       "      <td>26</td>\n",
       "      <td>22</td>\n",
       "      <td>64</td>\n",
       "    </tr>\n",
       "    <tr>\n",
       "      <th>...</th>\n",
       "      <td>...</td>\n",
       "      <td>...</td>\n",
       "      <td>...</td>\n",
       "      <td>...</td>\n",
       "      <td>...</td>\n",
       "      <td>...</td>\n",
       "      <td>...</td>\n",
       "    </tr>\n",
       "    <tr>\n",
       "      <th>86</th>\n",
       "      <td>84</td>\n",
       "      <td>Peru</td>\n",
       "      <td>PER</td>\n",
       "      <td>0</td>\n",
       "      <td>0</td>\n",
       "      <td>1</td>\n",
       "      <td>1</td>\n",
       "    </tr>\n",
       "    <tr>\n",
       "      <th>87</th>\n",
       "      <td>84</td>\n",
       "      <td>Qatar</td>\n",
       "      <td>QAT</td>\n",
       "      <td>0</td>\n",
       "      <td>0</td>\n",
       "      <td>1</td>\n",
       "      <td>1</td>\n",
       "    </tr>\n",
       "    <tr>\n",
       "      <th>88</th>\n",
       "      <td>84</td>\n",
       "      <td>Singapore</td>\n",
       "      <td>SIN</td>\n",
       "      <td>0</td>\n",
       "      <td>0</td>\n",
       "      <td>1</td>\n",
       "      <td>1</td>\n",
       "    </tr>\n",
       "    <tr>\n",
       "      <th>89</th>\n",
       "      <td>84</td>\n",
       "      <td>Slovakia</td>\n",
       "      <td>SVK</td>\n",
       "      <td>0</td>\n",
       "      <td>0</td>\n",
       "      <td>1</td>\n",
       "      <td>1</td>\n",
       "    </tr>\n",
       "    <tr>\n",
       "      <th>90</th>\n",
       "      <td>84</td>\n",
       "      <td>Zambia</td>\n",
       "      <td>ZAM</td>\n",
       "      <td>0</td>\n",
       "      <td>0</td>\n",
       "      <td>1</td>\n",
       "      <td>1</td>\n",
       "    </tr>\n",
       "  </tbody>\n",
       "</table>\n",
       "<p>91 rows × 7 columns</p>\n",
       "</div>"
      ],
      "text/plain": [
       "    Rank        Country Country Code  Gold  Silver  Bronze  Total\n",
       "0      1  United States           US    40      44      42    126\n",
       "1      2          China          CHN    40      27      24     91\n",
       "2      3          Japan          JPN    20      12      13     45\n",
       "3      4      Australia          AUS    18      19      16     53\n",
       "4      5         France          FRA    16      26      22     64\n",
       "..   ...            ...          ...   ...     ...     ...    ...\n",
       "86    84           Peru          PER     0       0       1      1\n",
       "87    84          Qatar          QAT     0       0       1      1\n",
       "88    84      Singapore          SIN     0       0       1      1\n",
       "89    84       Slovakia          SVK     0       0       1      1\n",
       "90    84         Zambia          ZAM     0       0       1      1\n",
       "\n",
       "[91 rows x 7 columns]"
      ]
     },
     "execution_count": 2,
     "metadata": {},
     "output_type": "execute_result"
    }
   ],
   "source": [
    "# mempersiapkan dataset yang diperlukan\n",
    "Dataset = pd.read_csv('C:\\Latihan\\Latihan\\Python\\Sample Data\\olympics2024.csv')\n",
    "Dataset"
   ]
  },
  {
   "cell_type": "markdown",
   "metadata": {},
   "source": [
    "Data Type\n",
    "\n",
    "Tipe data untuk kolom dalam DataFrame atau Seri dikenal sebagai tipe d.\n",
    "\n",
    "Anda dapat menggunakan properti dtype untuk mengambil tipe kolom tertentu. Misalnya, kita bisa mendapatkan dtype kolom Country di ulasan DataFrame:"
   ]
  },
  {
   "cell_type": "code",
   "execution_count": 5,
   "metadata": {},
   "outputs": [
    {
     "data": {
      "text/plain": [
       "dtype('O')"
      ]
     },
     "execution_count": 5,
     "metadata": {},
     "output_type": "execute_result"
    }
   ],
   "source": [
    "# contoh 1\n",
    "\n",
    "Dataset.Country.dtypes\n",
    "# sintaks ini digunakan dalam bahasa pemrograman Python dengan pustaka pandas untuk mengetahui tipe data \n",
    "# (data type) dari kolom Country dalam DataFrame Dataset."
   ]
  },
  {
   "cell_type": "markdown",
   "metadata": {},
   "source": [
    "Alternatifnya, properti dtypes mengembalikan dtype setiap kolom di DataFrame:"
   ]
  },
  {
   "cell_type": "code",
   "execution_count": 4,
   "metadata": {},
   "outputs": [
    {
     "data": {
      "text/plain": [
       "Rank             int64\n",
       "Country         object\n",
       "Country Code    object\n",
       "Gold             int64\n",
       "Silver           int64\n",
       "Bronze           int64\n",
       "Total            int64\n",
       "dtype: object"
      ]
     },
     "execution_count": 4,
     "metadata": {},
     "output_type": "execute_result"
    }
   ],
   "source": [
    "# contoh 2\n",
    "Dataset.dtypes"
   ]
  },
  {
   "cell_type": "markdown",
   "metadata": {},
   "source": [
    "Tipe data memberi tahu kita sesuatu tentang cara panda menyimpan data secara internal. float64 artinya menggunakan bilangan floating point 64-bit; int64 berarti bilangan bulat berukuran sama, dan seterusnya.\n",
    "\n",
    "Satu kekhasan yang perlu diingat (dan ditampilkan dengan sangat jelas di sini) adalah bahwa kolom yang seluruhnya terdiri dari string tidak mendapatkan tipenya sendiri; mereka malah diberi tipe objek.\n",
    "\n",
    "Dimungkinkan untuk mengonversi kolom dari satu tipe ke tipe lain di mana pun konversi tersebut masuk akal dengan menggunakan fungsi astype(). Misalnya, kita dapat mengubah kolom poin dari tipe data int64 yang ada menjadi tipe data float64:"
   ]
  },
  {
   "cell_type": "code",
   "execution_count": 6,
   "metadata": {},
   "outputs": [
    {
     "data": {
      "text/plain": [
       "0      1.0\n",
       "1      2.0\n",
       "2      3.0\n",
       "3      4.0\n",
       "4      5.0\n",
       "      ... \n",
       "86    84.0\n",
       "87    84.0\n",
       "88    84.0\n",
       "89    84.0\n",
       "90    84.0\n",
       "Name: Rank, Length: 91, dtype: float64"
      ]
     },
     "execution_count": 6,
     "metadata": {},
     "output_type": "execute_result"
    }
   ],
   "source": [
    "# contoh 3\n",
    "\n",
    "Dataset.Rank.astype('float64')\n",
    "\n",
    "# sintaks ini digunakan untuk mengonversi tipe data dari kolom Rank dalam DataFrame Dataset \n",
    "# menjadi tipe float64."
   ]
  },
  {
   "cell_type": "markdown",
   "metadata": {},
   "source": [
    "Indeks DataFrame atau Seri juga memiliki tipe d sendiri:"
   ]
  },
  {
   "cell_type": "code",
   "execution_count": 7,
   "metadata": {},
   "outputs": [
    {
     "data": {
      "text/plain": [
       "dtype('int64')"
      ]
     },
     "execution_count": 7,
     "metadata": {},
     "output_type": "execute_result"
    }
   ],
   "source": [
    "# contoh 4\n",
    "\n",
    "Dataset.index.dtype"
   ]
  },
  {
   "cell_type": "markdown",
   "metadata": {},
   "source": [
    "Pandas juga mendukung tipe data yang lebih eksotik, seperti data kategorikal dan data deret waktu. Karena tipe data ini lebih jarang digunakan, kami akan menghilangkannya hingga bagian selanjutnya dari tutorial ini."
   ]
  },
  {
   "cell_type": "markdown",
   "metadata": {},
   "source": [
    "2. Missing Data\n",
    "\n",
    "Entri nilai yang hilang diberi nilai NaN, singkatan dari \"Not a Number\". Untuk alasan teknis, nilai NaN ini selalu bertipe d float64.\n",
    "\n",
    "Pandas menyediakan beberapa metode khusus untuk data yang hilang. Untuk memilih entri NaN, Anda dapat menggunakan pd.isnull() (atau pendampingnya pd.notnull()). Ini dimaksudkan untuk digunakan sebagai berikut:"
   ]
  },
  {
   "cell_type": "code",
   "execution_count": 8,
   "metadata": {},
   "outputs": [
    {
     "data": {
      "text/html": [
       "<div>\n",
       "<style scoped>\n",
       "    .dataframe tbody tr th:only-of-type {\n",
       "        vertical-align: middle;\n",
       "    }\n",
       "\n",
       "    .dataframe tbody tr th {\n",
       "        vertical-align: top;\n",
       "    }\n",
       "\n",
       "    .dataframe thead th {\n",
       "        text-align: right;\n",
       "    }\n",
       "</style>\n",
       "<table border=\"1\" class=\"dataframe\">\n",
       "  <thead>\n",
       "    <tr style=\"text-align: right;\">\n",
       "      <th></th>\n",
       "      <th>Rank</th>\n",
       "      <th>Country</th>\n",
       "      <th>Country Code</th>\n",
       "      <th>Gold</th>\n",
       "      <th>Silver</th>\n",
       "      <th>Bronze</th>\n",
       "      <th>Total</th>\n",
       "    </tr>\n",
       "  </thead>\n",
       "  <tbody>\n",
       "  </tbody>\n",
       "</table>\n",
       "</div>"
      ],
      "text/plain": [
       "Empty DataFrame\n",
       "Columns: [Rank, Country, Country Code, Gold, Silver, Bronze, Total]\n",
       "Index: []"
      ]
     },
     "execution_count": 8,
     "metadata": {},
     "output_type": "execute_result"
    }
   ],
   "source": [
    "# contoh 5\n",
    "\n",
    "Dataset[pd.isnull(Dataset.Country)]\n",
    "\n",
    "# sintaks ini digunakan untuk menyaring baris-baris dalam DataFrame Dataset \n",
    "# di mana kolom Country memiliki nilai null atau NaN (Not a Number)."
   ]
  },
  {
   "cell_type": "markdown",
   "metadata": {},
   "source": [
    "Mengganti nilai yang hilang adalah operasi yang umum. Pandas menyediakan metode yang sangat berguna untuk masalah ini: fillna(). fillna() memberikan beberapa strategi berbeda untuk memitigasi data tersebut. Misalnya, kita cukup mengganti setiap NaN dengan \"Tidak Diketahui\":"
   ]
  },
  {
   "cell_type": "code",
   "execution_count": 9,
   "metadata": {},
   "outputs": [
    {
     "data": {
      "text/plain": [
       "0      1\n",
       "1      2\n",
       "2      3\n",
       "3      4\n",
       "4      5\n",
       "      ..\n",
       "86    84\n",
       "87    84\n",
       "88    84\n",
       "89    84\n",
       "90    84\n",
       "Name: Rank, Length: 91, dtype: int64"
      ]
     },
     "execution_count": 9,
     "metadata": {},
     "output_type": "execute_result"
    }
   ],
   "source": [
    "# contoh 6\n",
    "\n",
    "Dataset.Rank.fillna('unknown')\n",
    "\n",
    "# sintaks ini digunakan untuk menggantikan nilai NaN atau null \n",
    "# dalam kolom Rank dari DataFrame Dataset dengan nilai 'unknown'."
   ]
  }
 ],
 "metadata": {
  "kernelspec": {
   "display_name": "Python 3",
   "language": "python",
   "name": "python3"
  },
  "language_info": {
   "codemirror_mode": {
    "name": "ipython",
    "version": 3
   },
   "file_extension": ".py",
   "mimetype": "text/x-python",
   "name": "python",
   "nbconvert_exporter": "python",
   "pygments_lexer": "ipython3",
   "version": "3.11.5"
  }
 },
 "nbformat": 4,
 "nbformat_minor": 2
}

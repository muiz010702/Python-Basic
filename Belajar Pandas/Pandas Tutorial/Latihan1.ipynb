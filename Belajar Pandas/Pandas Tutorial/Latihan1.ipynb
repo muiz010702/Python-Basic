{
 "cells": [
  {
   "cell_type": "markdown",
   "metadata": {},
   "source": [
    "Belejar pengenalan pandas"
   ]
  },
  {
   "cell_type": "code",
   "execution_count": 4,
   "metadata": {},
   "outputs": [
    {
     "name": "stderr",
     "output_type": "stream",
     "text": [
      "Matplotlib created a temporary cache directory at C:\\Users\\mmuiz\\AppData\\Local\\Temp\\matplotlib-zawq_u56 because the default path (C:\\Users\\mmuiz\\.matplotlib) is not a writable directory; it is highly recommended to set the MPLCONFIGDIR environment variable to a writable directory, in particular to speed up the import of Matplotlib and to better support multiprocessing.\n",
      "Matplotlib is building the font cache; this may take a moment.\n"
     ]
    }
   ],
   "source": [
    "# melakukan import module pandas\n",
    "import pandas as pd\n",
    "import numpy as np\n",
    "import matplotlib.pyplot as plt"
   ]
  },
  {
   "cell_type": "markdown",
   "metadata": {},
   "source": [
    "Membuat pandas Dataframe"
   ]
  },
  {
   "cell_type": "code",
   "execution_count": 5,
   "metadata": {},
   "outputs": [
    {
     "name": "stdout",
     "output_type": "stream",
     "text": [
      "    Nama  Nilai\n",
      "0   Agus     88\n",
      "1  Ramli     80\n",
      "2   Asep     90\n",
      "3   Awal     85\n"
     ]
    }
   ],
   "source": [
    "# membuat pandas dataframe dengan ketentuan 2 buah kategori yang ditampung dalam bentuk \n",
    "# array dengan nama MyData\n",
    "MyData = {\n",
    "    'Nama' : ['Agus', 'Ramli', 'Asep', 'Awal'],\n",
    "    'Nilai' : [88, 80, 90, 85]\n",
    "}\n",
    "\n",
    "# menampung nilai data yang terseida ke dalam variabel Dataset\n",
    "Dataset = pd.DataFrame(MyData) \n",
    "\n",
    "# mnenampilkan dataset yang tersedia ke dalam pandas dataframe\n",
    "print(Dataset)\n"
   ]
  },
  {
   "cell_type": "markdown",
   "metadata": {},
   "source": [
    "Membuat Pandas Series\n",
    "\n",
    "Sebaliknya, Seri adalah urutan nilai data. Jika DataFrame adalah tabel, Seri adalah daftar. Dan sebenarnya Anda dapat membuatnya hanya dengan sebuah daftar:"
   ]
  },
  {
   "cell_type": "code",
   "execution_count": 6,
   "metadata": {},
   "outputs": [
    {
     "name": "stdout",
     "output_type": "stream",
     "text": [
      "0     2\n",
      "1     4\n",
      "2     6\n",
      "3     8\n",
      "4    10\n",
      "dtype: int64\n"
     ]
    }
   ],
   "source": [
    "# contoh 1\n",
    "Data1 = pd.Series([2,4,6,8,10])\n",
    "print(Data1)"
   ]
  },
  {
   "cell_type": "markdown",
   "metadata": {},
   "source": [
    "Seri, pada dasarnya, adalah satu kolom dari DataFrame. Jadi Anda dapat menetapkan label baris ke Seri dengan cara yang sama seperti sebelumnya, menggunakan parameter indeks. Namun, Seri tidak memiliki nama kolom, hanya memiliki satu nama keseluruhan:"
   ]
  },
  {
   "cell_type": "code",
   "execution_count": 7,
   "metadata": {},
   "outputs": [
    {
     "name": "stdout",
     "output_type": "stream",
     "text": [
      "Villa A    20\n",
      "Villa B    30\n",
      "Villa C    40\n",
      "Villa D    50\n",
      "Name: Harga Villa, dtype: int64\n"
     ]
    }
   ],
   "source": [
    "# contoh 2\n",
    "Data2 = pd.Series([20,30,40,50], index=['Villa A', 'Villa B', 'Villa C', 'Villa D'],\n",
    "                  name='Harga Villa')\n",
    "print(Data2)"
   ]
  },
  {
   "cell_type": "markdown",
   "metadata": {},
   "source": [
    "Seri dan DataFrame terkait erat. Sangat membantu untuk menganggap DataFrame sebenarnya hanyalah sekumpulan Seri yang \"direkatkan\". Kita akan melihat lebih banyak tentang ini di bagian selanjutnya dari tutorial ini."
   ]
  },
  {
   "cell_type": "markdown",
   "metadata": {},
   "source": [
    "Membaca File Data\n",
    "\n",
    "membuat DataFrame atau Seri dengan tangan sangatlah berguna. Namun, seringkali, kami tidak benar-benar membuat data kami sendiri dengan tangan. Sebaliknya, kami akan bekerja dengan data yang sudah ada.\n",
    "\n",
    "Data dapat disimpan dalam berbagai bentuk dan format. Sejauh ini, yang paling mendasar adalah file CSV yang sederhana.\n",
    "\n",
    "Jadi file CSV adalah tabel nilai yang dipisahkan dengan koma. Oleh karena itu namanya: \"Nilai yang Dipisahkan Koma\", atau CSV.\n",
    "\n",
    "Sekarang mari kita kesampingkan kumpulan data mainan kita dan lihat seperti apa kumpulan data sebenarnya saat kita membacanya ke dalam DataFrame. Kami akan menggunakan fungsi pd.read_csv() untuk membaca data ke dalam DataFrame. Ini berlaku sebagai berikut:"
   ]
  },
  {
   "cell_type": "code",
   "execution_count": 8,
   "metadata": {},
   "outputs": [
    {
     "name": "stdout",
     "output_type": "stream",
     "text": [
      "    Rank        Country Country Code  Gold  Silver  Bronze  Total\n",
      "0      1  United States           US    40      44      42    126\n",
      "1      2          China          CHN    40      27      24     91\n",
      "2      3          Japan          JPN    20      12      13     45\n",
      "3      4      Australia          AUS    18      19      16     53\n",
      "4      5         France          FRA    16      26      22     64\n",
      "..   ...            ...          ...   ...     ...     ...    ...\n",
      "86    84           Peru          PER     0       0       1      1\n",
      "87    84          Qatar          QAT     0       0       1      1\n",
      "88    84      Singapore          SIN     0       0       1      1\n",
      "89    84       Slovakia          SVK     0       0       1      1\n",
      "90    84         Zambia          ZAM     0       0       1      1\n",
      "\n",
      "[91 rows x 7 columns]\n"
     ]
    }
   ],
   "source": [
    "# contoh 3\n",
    "Data3 = pd.read_csv('C:\\Latihan\\Latihan\\Python\\Sample Data\\olympics2024.csv')\n",
    "print(Data3)"
   ]
  },
  {
   "cell_type": "code",
   "execution_count": 13,
   "metadata": {},
   "outputs": [
    {
     "data": {
      "text/html": [
       "<div>\n",
       "<style scoped>\n",
       "    .dataframe tbody tr th:only-of-type {\n",
       "        vertical-align: middle;\n",
       "    }\n",
       "\n",
       "    .dataframe tbody tr th {\n",
       "        vertical-align: top;\n",
       "    }\n",
       "\n",
       "    .dataframe thead th {\n",
       "        text-align: right;\n",
       "    }\n",
       "</style>\n",
       "<table border=\"1\" class=\"dataframe\">\n",
       "  <thead>\n",
       "    <tr style=\"text-align: right;\">\n",
       "      <th></th>\n",
       "      <th>Country</th>\n",
       "      <th>Country Code</th>\n",
       "      <th>Gold</th>\n",
       "      <th>Silver</th>\n",
       "      <th>Bronze</th>\n",
       "      <th>Total</th>\n",
       "    </tr>\n",
       "    <tr>\n",
       "      <th>Rank</th>\n",
       "      <th></th>\n",
       "      <th></th>\n",
       "      <th></th>\n",
       "      <th></th>\n",
       "      <th></th>\n",
       "      <th></th>\n",
       "    </tr>\n",
       "  </thead>\n",
       "  <tbody>\n",
       "    <tr>\n",
       "      <th>1</th>\n",
       "      <td>United States</td>\n",
       "      <td>US</td>\n",
       "      <td>40</td>\n",
       "      <td>44</td>\n",
       "      <td>42</td>\n",
       "      <td>126</td>\n",
       "    </tr>\n",
       "    <tr>\n",
       "      <th>2</th>\n",
       "      <td>China</td>\n",
       "      <td>CHN</td>\n",
       "      <td>40</td>\n",
       "      <td>27</td>\n",
       "      <td>24</td>\n",
       "      <td>91</td>\n",
       "    </tr>\n",
       "    <tr>\n",
       "      <th>3</th>\n",
       "      <td>Japan</td>\n",
       "      <td>JPN</td>\n",
       "      <td>20</td>\n",
       "      <td>12</td>\n",
       "      <td>13</td>\n",
       "      <td>45</td>\n",
       "    </tr>\n",
       "    <tr>\n",
       "      <th>4</th>\n",
       "      <td>Australia</td>\n",
       "      <td>AUS</td>\n",
       "      <td>18</td>\n",
       "      <td>19</td>\n",
       "      <td>16</td>\n",
       "      <td>53</td>\n",
       "    </tr>\n",
       "    <tr>\n",
       "      <th>5</th>\n",
       "      <td>France</td>\n",
       "      <td>FRA</td>\n",
       "      <td>16</td>\n",
       "      <td>26</td>\n",
       "      <td>22</td>\n",
       "      <td>64</td>\n",
       "    </tr>\n",
       "    <tr>\n",
       "      <th>...</th>\n",
       "      <td>...</td>\n",
       "      <td>...</td>\n",
       "      <td>...</td>\n",
       "      <td>...</td>\n",
       "      <td>...</td>\n",
       "      <td>...</td>\n",
       "    </tr>\n",
       "    <tr>\n",
       "      <th>84</th>\n",
       "      <td>Peru</td>\n",
       "      <td>PER</td>\n",
       "      <td>0</td>\n",
       "      <td>0</td>\n",
       "      <td>1</td>\n",
       "      <td>1</td>\n",
       "    </tr>\n",
       "    <tr>\n",
       "      <th>84</th>\n",
       "      <td>Qatar</td>\n",
       "      <td>QAT</td>\n",
       "      <td>0</td>\n",
       "      <td>0</td>\n",
       "      <td>1</td>\n",
       "      <td>1</td>\n",
       "    </tr>\n",
       "    <tr>\n",
       "      <th>84</th>\n",
       "      <td>Singapore</td>\n",
       "      <td>SIN</td>\n",
       "      <td>0</td>\n",
       "      <td>0</td>\n",
       "      <td>1</td>\n",
       "      <td>1</td>\n",
       "    </tr>\n",
       "    <tr>\n",
       "      <th>84</th>\n",
       "      <td>Slovakia</td>\n",
       "      <td>SVK</td>\n",
       "      <td>0</td>\n",
       "      <td>0</td>\n",
       "      <td>1</td>\n",
       "      <td>1</td>\n",
       "    </tr>\n",
       "    <tr>\n",
       "      <th>84</th>\n",
       "      <td>Zambia</td>\n",
       "      <td>ZAM</td>\n",
       "      <td>0</td>\n",
       "      <td>0</td>\n",
       "      <td>1</td>\n",
       "      <td>1</td>\n",
       "    </tr>\n",
       "  </tbody>\n",
       "</table>\n",
       "<p>91 rows × 6 columns</p>\n",
       "</div>"
      ],
      "text/plain": [
       "            Country Country Code  Gold  Silver  Bronze  Total\n",
       "Rank                                                         \n",
       "1     United States           US    40      44      42    126\n",
       "2             China          CHN    40      27      24     91\n",
       "3             Japan          JPN    20      12      13     45\n",
       "4         Australia          AUS    18      19      16     53\n",
       "5            France          FRA    16      26      22     64\n",
       "...             ...          ...   ...     ...     ...    ...\n",
       "84             Peru          PER     0       0       1      1\n",
       "84            Qatar          QAT     0       0       1      1\n",
       "84        Singapore          SIN     0       0       1      1\n",
       "84         Slovakia          SVK     0       0       1      1\n",
       "84           Zambia          ZAM     0       0       1      1\n",
       "\n",
       "[91 rows x 6 columns]"
      ]
     },
     "execution_count": 13,
     "metadata": {},
     "output_type": "execute_result"
    }
   ],
   "source": [
    "# contoh 4 = menampilkan seluruh data pada dataframe\n",
    "Data3 = pd.read_csv('C:\\Latihan\\Latihan\\Python\\Sample Data\\olympics2024.csv', index_col = 0)\n",
    "Data3"
   ]
  },
  {
   "cell_type": "code",
   "execution_count": 9,
   "metadata": {},
   "outputs": [
    {
     "data": {
      "text/plain": [
       "(91, 7)"
      ]
     },
     "execution_count": 9,
     "metadata": {},
     "output_type": "execute_result"
    }
   ],
   "source": [
    "# Kita dapat menggunakan atribut shape untuk memeriksa seberapa besar DataFrame yang dihasilkan:\n",
    "# contoh 5\n",
    "Data3.shape"
   ]
  },
  {
   "cell_type": "code",
   "execution_count": 12,
   "metadata": {},
   "outputs": [
    {
     "data": {
      "text/html": [
       "<div>\n",
       "<style scoped>\n",
       "    .dataframe tbody tr th:only-of-type {\n",
       "        vertical-align: middle;\n",
       "    }\n",
       "\n",
       "    .dataframe tbody tr th {\n",
       "        vertical-align: top;\n",
       "    }\n",
       "\n",
       "    .dataframe thead th {\n",
       "        text-align: right;\n",
       "    }\n",
       "</style>\n",
       "<table border=\"1\" class=\"dataframe\">\n",
       "  <thead>\n",
       "    <tr style=\"text-align: right;\">\n",
       "      <th></th>\n",
       "      <th>Rank</th>\n",
       "      <th>Country</th>\n",
       "      <th>Country Code</th>\n",
       "      <th>Gold</th>\n",
       "      <th>Silver</th>\n",
       "      <th>Bronze</th>\n",
       "      <th>Total</th>\n",
       "    </tr>\n",
       "  </thead>\n",
       "  <tbody>\n",
       "    <tr>\n",
       "      <th>0</th>\n",
       "      <td>1</td>\n",
       "      <td>United States</td>\n",
       "      <td>US</td>\n",
       "      <td>40</td>\n",
       "      <td>44</td>\n",
       "      <td>42</td>\n",
       "      <td>126</td>\n",
       "    </tr>\n",
       "    <tr>\n",
       "      <th>1</th>\n",
       "      <td>2</td>\n",
       "      <td>China</td>\n",
       "      <td>CHN</td>\n",
       "      <td>40</td>\n",
       "      <td>27</td>\n",
       "      <td>24</td>\n",
       "      <td>91</td>\n",
       "    </tr>\n",
       "    <tr>\n",
       "      <th>2</th>\n",
       "      <td>3</td>\n",
       "      <td>Japan</td>\n",
       "      <td>JPN</td>\n",
       "      <td>20</td>\n",
       "      <td>12</td>\n",
       "      <td>13</td>\n",
       "      <td>45</td>\n",
       "    </tr>\n",
       "    <tr>\n",
       "      <th>3</th>\n",
       "      <td>4</td>\n",
       "      <td>Australia</td>\n",
       "      <td>AUS</td>\n",
       "      <td>18</td>\n",
       "      <td>19</td>\n",
       "      <td>16</td>\n",
       "      <td>53</td>\n",
       "    </tr>\n",
       "    <tr>\n",
       "      <th>4</th>\n",
       "      <td>5</td>\n",
       "      <td>France</td>\n",
       "      <td>FRA</td>\n",
       "      <td>16</td>\n",
       "      <td>26</td>\n",
       "      <td>22</td>\n",
       "      <td>64</td>\n",
       "    </tr>\n",
       "  </tbody>\n",
       "</table>\n",
       "</div>"
      ],
      "text/plain": [
       "   Rank        Country Country Code  Gold  Silver  Bronze  Total\n",
       "0     1  United States           US    40      44      42    126\n",
       "1     2          China          CHN    40      27      24     91\n",
       "2     3          Japan          JPN    20      12      13     45\n",
       "3     4      Australia          AUS    18      19      16     53\n",
       "4     5         France          FRA    16      26      22     64"
      ]
     },
     "execution_count": 12,
     "metadata": {},
     "output_type": "execute_result"
    }
   ],
   "source": [
    "# contoh 6\n",
    "\n",
    "# Kita dapat memeriksa konten DataFrame yang dihasilkan menggunakan perintah head(),\n",
    "# yang mengambil lima baris pertama:\n",
    "\n",
    "Data3.head()"
   ]
  }
 ],
 "metadata": {
  "kernelspec": {
   "display_name": "Python 3",
   "language": "python",
   "name": "python3"
  },
  "language_info": {
   "codemirror_mode": {
    "name": "ipython",
    "version": 3
   },
   "file_extension": ".py",
   "mimetype": "text/x-python",
   "name": "python",
   "nbconvert_exporter": "python",
   "pygments_lexer": "ipython3",
   "version": "3.11.5"
  }
 },
 "nbformat": 4,
 "nbformat_minor": 2
}

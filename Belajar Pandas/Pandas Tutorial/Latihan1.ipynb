{
 "cells": [
  {
   "cell_type": "markdown",
   "metadata": {},
   "source": [
    "Belejar pengenalan pandas"
   ]
  },
  {
   "cell_type": "code",
   "execution_count": 1,
   "metadata": {},
   "outputs": [
    {
     "name": "stderr",
     "output_type": "stream",
     "text": [
      "Matplotlib created a temporary cache directory at C:\\Users\\mmuiz\\AppData\\Local\\Temp\\matplotlib-w81uvmqp because the default path (C:\\Users\\mmuiz\\.matplotlib) is not a writable directory; it is highly recommended to set the MPLCONFIGDIR environment variable to a writable directory, in particular to speed up the import of Matplotlib and to better support multiprocessing.\n",
      "Matplotlib is building the font cache; this may take a moment.\n"
     ]
    }
   ],
   "source": [
    "# melakukan import module pandas\n",
    "import pandas as pd\n",
    "import numpy as np\n",
    "import matplotlib.pyplot as plt"
   ]
  },
  {
   "cell_type": "code",
   "execution_count": 3,
   "metadata": {},
   "outputs": [
    {
     "name": "stdout",
     "output_type": "stream",
     "text": [
      "    Nama  Nilai\n",
      "0   Agus     88\n",
      "1  Ramli     80\n",
      "2   Asep     90\n",
      "3   Awal     85\n"
     ]
    }
   ],
   "source": [
    "# membuat pandas dataframe dengan ketentuan 2 buah kategori yang ditampung dalam bentuk \n",
    "# array dengan nama MyData\n",
    "MyData = {\n",
    "    'Nama' : ['Agus', 'Ramli', 'Asep', 'Awal'],\n",
    "    'Nilai' : [88, 80, 90, 85]\n",
    "}\n",
    "\n",
    "# menampung nilai data yang terseida ke dalam variabel Dataset\n",
    "Dataset = pd.DataFrame(MyData) \n",
    "\n",
    "# mnenampilkan dataset yang tersedia ke dalam pandas dataframe\n",
    "print(Dataset)\n"
   ]
  },
  {
   "cell_type": "code",
   "execution_count": 4,
   "metadata": {},
   "outputs": [
    {
     "name": "stdout",
     "output_type": "stream",
     "text": [
      "2.2.2\n"
     ]
    }
   ],
   "source": [
    "# cara melakukan pengecekan versi pandas yang digunakan\n",
    "print(pd.__version__)"
   ]
  }
 ],
 "metadata": {
  "kernelspec": {
   "display_name": "Python 3",
   "language": "python",
   "name": "python3"
  },
  "language_info": {
   "codemirror_mode": {
    "name": "ipython",
    "version": 3
   },
   "file_extension": ".py",
   "mimetype": "text/x-python",
   "name": "python",
   "nbconvert_exporter": "python",
   "pygments_lexer": "ipython3",
   "version": "3.11.5"
  }
 },
 "nbformat": 4,
 "nbformat_minor": 2
}

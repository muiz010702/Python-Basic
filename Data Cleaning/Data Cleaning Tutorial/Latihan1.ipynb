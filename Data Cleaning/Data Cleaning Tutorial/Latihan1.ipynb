{
 "cells": [
  {
   "cell_type": "markdown",
   "metadata": {},
   "source": [
    "Belajar cara mengatasi Handling Misiing Value"
   ]
  },
  {
   "cell_type": "markdown",
   "metadata": {},
   "source": [
    "Pengenalan Data Cleaning\n",
    "\n",
    "Pembersihan data adalah bagian penting dari ilmu data, namun hal ini bisa sangat membuat frustrasi. Mengapa beberapa kolom teks Anda kacau? Apa yang harus Anda lakukan terhadap nilai-nilai yang hilang tersebut? Mengapa tanggal Anda tidak diformat dengan benar? Bagaimana cara cepat membersihkan entri data yang tidak konsisten? Dalam kursus ini, Anda akan mempelajari mengapa Anda mengalami masalah ini dan, yang lebih penting, cara memperbaikinya!\n",
    "\n",
    "Dalam kursus ini, Anda akan mempelajari cara mengatasi beberapa masalah pembersihan data yang paling umum sehingga Anda dapat menganalisis data dengan lebih cepat. Anda akan mengerjakan lima latihan praktis dengan data nyata dan berantakan serta menjawab beberapa pertanyaan pembersihan data yang paling sering diajukan.\n",
    "\n",
    "Dalam buku catatan ini, kita akan melihat cara menangani nilai yang hilang."
   ]
  },
  {
   "cell_type": "markdown",
   "metadata": {},
   "source": [
    "1. Take a first look at the data / Lihatlah datanya terlebih dahulu\n",
    "\n",
    "Hal pertama yang perlu kita lakukan adalah memuat perpustakaan dan kumpulan data yang akan kita gunakan.\n",
    "\n",
    "ntuk demonstrasinya, kami akan menggunakan kumpulan data peristiwa yang terjadi di pertandingan American Football. Dalam latihan berikut, Anda akan menerapkan keterampilan baru Anda pada kumpulan data izin bangunan yang dikeluarkan di San Francisco."
   ]
  },
  {
   "cell_type": "code",
   "execution_count": 1,
   "metadata": {},
   "outputs": [
    {
     "name": "stderr",
     "output_type": "stream",
     "text": [
      "Matplotlib created a temporary cache directory at C:\\Users\\mmuiz\\AppData\\Local\\Temp\\matplotlib-2hkvv1ny because the default path (C:\\Users\\mmuiz\\.matplotlib) is not a writable directory; it is highly recommended to set the MPLCONFIGDIR environment variable to a writable directory, in particular to speed up the import of Matplotlib and to better support multiprocessing.\n",
      "Matplotlib is building the font cache; this may take a moment.\n"
     ]
    }
   ],
   "source": [
    "# mempersiapkan module atau library yang diperlukan\n",
    "import pandas as pd\n",
    "import numpy as np\n",
    "import matplotlib.pyplot as plt"
   ]
  },
  {
   "cell_type": "code",
   "execution_count": 4,
   "metadata": {},
   "outputs": [
    {
     "data": {
      "text/html": [
       "<div>\n",
       "<style scoped>\n",
       "    .dataframe tbody tr th:only-of-type {\n",
       "        vertical-align: middle;\n",
       "    }\n",
       "\n",
       "    .dataframe tbody tr th {\n",
       "        vertical-align: top;\n",
       "    }\n",
       "\n",
       "    .dataframe thead th {\n",
       "        text-align: right;\n",
       "    }\n",
       "</style>\n",
       "<table border=\"1\" class=\"dataframe\">\n",
       "  <thead>\n",
       "    <tr style=\"text-align: right;\">\n",
       "      <th></th>\n",
       "      <th>Duration</th>\n",
       "      <th>Pulse</th>\n",
       "      <th>Maxpulse</th>\n",
       "      <th>Calories</th>\n",
       "    </tr>\n",
       "  </thead>\n",
       "  <tbody>\n",
       "    <tr>\n",
       "      <th>0</th>\n",
       "      <td>60</td>\n",
       "      <td>110</td>\n",
       "      <td>130</td>\n",
       "      <td>409.1</td>\n",
       "    </tr>\n",
       "    <tr>\n",
       "      <th>1</th>\n",
       "      <td>60</td>\n",
       "      <td>117</td>\n",
       "      <td>145</td>\n",
       "      <td>479.0</td>\n",
       "    </tr>\n",
       "    <tr>\n",
       "      <th>2</th>\n",
       "      <td>60</td>\n",
       "      <td>103</td>\n",
       "      <td>135</td>\n",
       "      <td>340.0</td>\n",
       "    </tr>\n",
       "    <tr>\n",
       "      <th>3</th>\n",
       "      <td>45</td>\n",
       "      <td>109</td>\n",
       "      <td>175</td>\n",
       "      <td>282.4</td>\n",
       "    </tr>\n",
       "    <tr>\n",
       "      <th>4</th>\n",
       "      <td>45</td>\n",
       "      <td>117</td>\n",
       "      <td>148</td>\n",
       "      <td>406.0</td>\n",
       "    </tr>\n",
       "    <tr>\n",
       "      <th>...</th>\n",
       "      <td>...</td>\n",
       "      <td>...</td>\n",
       "      <td>...</td>\n",
       "      <td>...</td>\n",
       "    </tr>\n",
       "    <tr>\n",
       "      <th>164</th>\n",
       "      <td>60</td>\n",
       "      <td>105</td>\n",
       "      <td>140</td>\n",
       "      <td>290.8</td>\n",
       "    </tr>\n",
       "    <tr>\n",
       "      <th>165</th>\n",
       "      <td>60</td>\n",
       "      <td>110</td>\n",
       "      <td>145</td>\n",
       "      <td>300.0</td>\n",
       "    </tr>\n",
       "    <tr>\n",
       "      <th>166</th>\n",
       "      <td>60</td>\n",
       "      <td>115</td>\n",
       "      <td>145</td>\n",
       "      <td>310.2</td>\n",
       "    </tr>\n",
       "    <tr>\n",
       "      <th>167</th>\n",
       "      <td>75</td>\n",
       "      <td>120</td>\n",
       "      <td>150</td>\n",
       "      <td>320.4</td>\n",
       "    </tr>\n",
       "    <tr>\n",
       "      <th>168</th>\n",
       "      <td>75</td>\n",
       "      <td>125</td>\n",
       "      <td>150</td>\n",
       "      <td>330.4</td>\n",
       "    </tr>\n",
       "  </tbody>\n",
       "</table>\n",
       "<p>169 rows × 4 columns</p>\n",
       "</div>"
      ],
      "text/plain": [
       "     Duration  Pulse  Maxpulse  Calories\n",
       "0          60    110       130     409.1\n",
       "1          60    117       145     479.0\n",
       "2          60    103       135     340.0\n",
       "3          45    109       175     282.4\n",
       "4          45    117       148     406.0\n",
       "..        ...    ...       ...       ...\n",
       "164        60    105       140     290.8\n",
       "165        60    110       145     300.0\n",
       "166        60    115       145     310.2\n",
       "167        75    120       150     320.4\n",
       "168        75    125       150     330.4\n",
       "\n",
       "[169 rows x 4 columns]"
      ]
     },
     "execution_count": 4,
     "metadata": {},
     "output_type": "execute_result"
    }
   ],
   "source": [
    "# mempersiapkan dataset yang diperlukan\n",
    "dataset = pd.read_csv('C:\\Latihan\\Latihan\\Python\\Sample Data\\data.csv')\n",
    "dataset"
   ]
  },
  {
   "cell_type": "markdown",
   "metadata": {},
   "source": [
    "Hal pertama yang harus dilakukan saat Anda mendapatkan kumpulan data baru adalah melihat beberapa di antaranya. Ini memungkinkan Anda melihat bahwa semuanya terbaca dengan benar dan memberikan gambaran tentang apa yang terjadi dengan data tersebut. Dalam hal ini, mari kita lihat apakah ada nilai yang hilang, yang akan direpresentasikan dengan NaN atau None."
   ]
  },
  {
   "cell_type": "markdown",
   "metadata": {},
   "source": [
    "2. How many missing data points do we have? / Berapa banyak titik data yang hilang yang kita miliki?\n",
    "\n",
    "Oke, sekarang kita tahu bahwa kita memiliki beberapa nilai yang hilang. Mari kita lihat berapa banyak yang kita miliki di setiap kolom."
   ]
  },
  {
   "cell_type": "code",
   "execution_count": 5,
   "metadata": {},
   "outputs": [
    {
     "data": {
      "text/plain": [
       "Duration    0\n",
       "Pulse       0\n",
       "Maxpulse    0\n",
       "Calories    5\n",
       "dtype: int64"
      ]
     },
     "execution_count": 5,
     "metadata": {},
     "output_type": "execute_result"
    }
   ],
   "source": [
    "# menghitung jumlah data yang hilang dari masing masing kolom\n",
    "\n",
    "Dataset_Mis = dataset.isnull().sum() # sintaks ini digunakan untuk menghitung jumlah data yg hilang\n",
    "\n",
    "Dataset_Mis[0:100] # sintaks ini digunakan untuk menampilkan data 100 baris pertama dari dataset"
   ]
  },
  {
   "cell_type": "markdown",
   "metadata": {},
   "source": [
    "Sepertinya banyak sekali! Mungkin berguna untuk melihat berapa persentase nilai dalam kumpulan data yang hilang agar kita bisa lebih memahami skala masalah ini:"
   ]
  },
  {
   "cell_type": "code",
   "execution_count": 6,
   "metadata": {},
   "outputs": [
    {
     "name": "stdout",
     "output_type": "stream",
     "text": [
      "125.0\n"
     ]
    }
   ],
   "source": [
    "# berapa total nilai hilang yang kita miliki?\n",
    "Total_Kolom = np.product(Dataset_Mis.shape) # sintaks ini digunakan untuk menghitung total jumlah elemen dalam DataFrame Dataset_Mis\n",
    "Total_Miss = Dataset_Mis.sum() # sintaks ini digunakan untuk menghitung total jumlah nilai dalam setiap kolom dari DataFrame\n",
    "\n",
    "#  persen data yang hilang\n",
    "Total_Persentase = (Total_Miss / Total_Kolom) * 100 # sintaks ini digunakan untuk menghitung persentase dari data yang hilang\n",
    "print(Total_Persentase) # sintaks ini digunakan untuk menampilkan dataset"
   ]
  },
  {
   "cell_type": "markdown",
   "metadata": {},
   "source": [
    "Wow, hampir seperempat sel di dataset ini kosong! Pada langkah berikutnya, kita akan melihat lebih dekat beberapa kolom dengan nilai yang hilang dan mencoba mencari tahu apa yang mungkin terjadi dengan kolom tersebut."
   ]
  },
  {
   "cell_type": "markdown",
   "metadata": {},
   "source": [
    "3. Figure out why the data is missing / Cari tahu mengapa datanya hilang\n",
    "\n",
    "Ini adalah titik di mana kita masuk ke bagian ilmu data yang saya sebut \"intusi data\", yang saya maksud adalah \"benar-benar melihat data Anda dan mencoba mencari tahu mengapa hal itu terjadi dan bagaimana hal itu akan terjadi. mempengaruhi analisis Anda\". Ini bisa menjadi bagian yang membuat frustrasi dalam ilmu data, terutama jika Anda baru dalam bidang ini dan tidak memiliki banyak pengalaman. Untuk menangani nilai yang hilang, Anda harus menggunakan intuisi Anda untuk mencari tahu mengapa nilai tersebut hilang. Salah satu pertanyaan terpenting yang dapat Anda tanyakan pada diri sendiri untuk membantu memecahkan masalah ini adalah:\n",
    "\n",
    "Apakah nilai ini hilang karena tidak dicatat atau karena tidak ada?\n",
    "\n",
    "Jika suatu nilai hilang karena tidak ada (seperti tinggi badan anak tertua dari seseorang yang tidak memiliki anak) maka tidak masuk akal untuk mencoba menebak nilai tersebut. Nilai-nilai ini mungkin ingin Anda pertahankan sebagai NaN. Di sisi lain, jika suatu nilai hilang karena tidak dicatat, Anda dapat mencoba menebak nilai tersebut berdasarkan nilai lain di kolom dan baris tersebut. Ini disebut imputasi, dan kita akan mempelajari cara melakukannya selanjutnya! :\n",
    "\n",
    "Mari kita kerjakan sebuah contoh. Melihat jumlah nilai yang hilang dalam kerangka data Dataset_Miss, saya perhatikan bahwa kolom \"Calories\" memiliki banyak nilai yang hilang di dalamnya:"
   ]
  },
  {
   "cell_type": "code",
   "execution_count": 7,
   "metadata": {},
   "outputs": [
    {
     "data": {
      "text/plain": [
       "Duration    0\n",
       "Pulse       0\n",
       "Maxpulse    0\n",
       "Calories    5\n",
       "dtype: int64"
      ]
     },
     "execution_count": 7,
     "metadata": {},
     "output_type": "execute_result"
    }
   ],
   "source": [
    "# lihat titik yang hilang di sepuluh kolom pertama\n",
    "Dataset_Mis[0:120]"
   ]
  },
  {
   "cell_type": "markdown",
   "metadata": {},
   "source": [
    "4. Drop Missing Values / Hilangkan nilai yang hilang\n",
    "\n",
    "Jika Anda sedang terburu-buru atau tidak punya alasan untuk mencari tahu mengapa nilai Anda hilang, salah satu opsi yang Anda miliki adalah menghapus baris atau kolom apa pun yang berisi nilai yang hilang. (Catatan: Saya biasanya tidak merekomendasikan pendekatan ini untuk proyek-proyek penting! Biasanya ada baiknya meluangkan waktu untuk memeriksa data Anda dan benar-benar melihat semua kolom dengan nilai yang hilang satu per satu untuk benar-benar mengenal kumpulan data Anda .)\n",
    "\n",
    "Jika Anda yakin ingin menghapus baris dengan nilai yang hilang, pandas memiliki fungsi praktis, dropna() untuk membantu Anda melakukan hal ini. Mari kita mencobanya di kumpulan data dataset kami!"
   ]
  },
  {
   "cell_type": "code",
   "execution_count": 13,
   "metadata": {},
   "outputs": [
    {
     "data": {
      "text/html": [
       "<div>\n",
       "<style scoped>\n",
       "    .dataframe tbody tr th:only-of-type {\n",
       "        vertical-align: middle;\n",
       "    }\n",
       "\n",
       "    .dataframe tbody tr th {\n",
       "        vertical-align: top;\n",
       "    }\n",
       "\n",
       "    .dataframe thead th {\n",
       "        text-align: right;\n",
       "    }\n",
       "</style>\n",
       "<table border=\"1\" class=\"dataframe\">\n",
       "  <thead>\n",
       "    <tr style=\"text-align: right;\">\n",
       "      <th></th>\n",
       "      <th>Duration</th>\n",
       "      <th>Pulse</th>\n",
       "      <th>Maxpulse</th>\n",
       "      <th>Calories</th>\n",
       "    </tr>\n",
       "  </thead>\n",
       "  <tbody>\n",
       "    <tr>\n",
       "      <th>0</th>\n",
       "      <td>60</td>\n",
       "      <td>110</td>\n",
       "      <td>130</td>\n",
       "      <td>409.1</td>\n",
       "    </tr>\n",
       "    <tr>\n",
       "      <th>1</th>\n",
       "      <td>60</td>\n",
       "      <td>117</td>\n",
       "      <td>145</td>\n",
       "      <td>479.0</td>\n",
       "    </tr>\n",
       "    <tr>\n",
       "      <th>2</th>\n",
       "      <td>60</td>\n",
       "      <td>103</td>\n",
       "      <td>135</td>\n",
       "      <td>340.0</td>\n",
       "    </tr>\n",
       "    <tr>\n",
       "      <th>3</th>\n",
       "      <td>45</td>\n",
       "      <td>109</td>\n",
       "      <td>175</td>\n",
       "      <td>282.4</td>\n",
       "    </tr>\n",
       "    <tr>\n",
       "      <th>4</th>\n",
       "      <td>45</td>\n",
       "      <td>117</td>\n",
       "      <td>148</td>\n",
       "      <td>406.0</td>\n",
       "    </tr>\n",
       "    <tr>\n",
       "      <th>...</th>\n",
       "      <td>...</td>\n",
       "      <td>...</td>\n",
       "      <td>...</td>\n",
       "      <td>...</td>\n",
       "    </tr>\n",
       "    <tr>\n",
       "      <th>164</th>\n",
       "      <td>60</td>\n",
       "      <td>105</td>\n",
       "      <td>140</td>\n",
       "      <td>290.8</td>\n",
       "    </tr>\n",
       "    <tr>\n",
       "      <th>165</th>\n",
       "      <td>60</td>\n",
       "      <td>110</td>\n",
       "      <td>145</td>\n",
       "      <td>300.0</td>\n",
       "    </tr>\n",
       "    <tr>\n",
       "      <th>166</th>\n",
       "      <td>60</td>\n",
       "      <td>115</td>\n",
       "      <td>145</td>\n",
       "      <td>310.2</td>\n",
       "    </tr>\n",
       "    <tr>\n",
       "      <th>167</th>\n",
       "      <td>75</td>\n",
       "      <td>120</td>\n",
       "      <td>150</td>\n",
       "      <td>320.4</td>\n",
       "    </tr>\n",
       "    <tr>\n",
       "      <th>168</th>\n",
       "      <td>75</td>\n",
       "      <td>125</td>\n",
       "      <td>150</td>\n",
       "      <td>330.4</td>\n",
       "    </tr>\n",
       "  </tbody>\n",
       "</table>\n",
       "<p>164 rows × 4 columns</p>\n",
       "</div>"
      ],
      "text/plain": [
       "     Duration  Pulse  Maxpulse  Calories\n",
       "0          60    110       130     409.1\n",
       "1          60    117       145     479.0\n",
       "2          60    103       135     340.0\n",
       "3          45    109       175     282.4\n",
       "4          45    117       148     406.0\n",
       "..        ...    ...       ...       ...\n",
       "164        60    105       140     290.8\n",
       "165        60    110       145     300.0\n",
       "166        60    115       145     310.2\n",
       "167        75    120       150     320.4\n",
       "168        75    125       150     330.4\n",
       "\n",
       "[164 rows x 4 columns]"
      ]
     },
     "execution_count": 13,
     "metadata": {},
     "output_type": "execute_result"
    }
   ],
   "source": [
    "# menghapus nilai yang hilang dengan menggunakan dungsi dropna()\n",
    "dataset.dropna(inplace=True)\n",
    "dataset"
   ]
  },
  {
   "cell_type": "markdown",
   "metadata": {},
   "source": [
    "a ampun, sepertinya itu menghapus semua data kita! 😱 Ini karena setiap baris dalam kumpulan data kita memiliki setidaknya satu nilai yang hilang. Kami mungkin lebih beruntung menghapus semua kolom yang memiliki setidaknya satu nilai yang hilang."
   ]
  },
  {
   "cell_type": "code",
   "execution_count": 14,
   "metadata": {},
   "outputs": [
    {
     "data": {
      "text/html": [
       "<div>\n",
       "<style scoped>\n",
       "    .dataframe tbody tr th:only-of-type {\n",
       "        vertical-align: middle;\n",
       "    }\n",
       "\n",
       "    .dataframe tbody tr th {\n",
       "        vertical-align: top;\n",
       "    }\n",
       "\n",
       "    .dataframe thead th {\n",
       "        text-align: right;\n",
       "    }\n",
       "</style>\n",
       "<table border=\"1\" class=\"dataframe\">\n",
       "  <thead>\n",
       "    <tr style=\"text-align: right;\">\n",
       "      <th></th>\n",
       "      <th>Duration</th>\n",
       "      <th>Pulse</th>\n",
       "      <th>Maxpulse</th>\n",
       "      <th>Calories</th>\n",
       "    </tr>\n",
       "  </thead>\n",
       "  <tbody>\n",
       "    <tr>\n",
       "      <th>0</th>\n",
       "      <td>60</td>\n",
       "      <td>110</td>\n",
       "      <td>130</td>\n",
       "      <td>409.1</td>\n",
       "    </tr>\n",
       "    <tr>\n",
       "      <th>1</th>\n",
       "      <td>60</td>\n",
       "      <td>117</td>\n",
       "      <td>145</td>\n",
       "      <td>479.0</td>\n",
       "    </tr>\n",
       "    <tr>\n",
       "      <th>2</th>\n",
       "      <td>60</td>\n",
       "      <td>103</td>\n",
       "      <td>135</td>\n",
       "      <td>340.0</td>\n",
       "    </tr>\n",
       "    <tr>\n",
       "      <th>3</th>\n",
       "      <td>45</td>\n",
       "      <td>109</td>\n",
       "      <td>175</td>\n",
       "      <td>282.4</td>\n",
       "    </tr>\n",
       "    <tr>\n",
       "      <th>4</th>\n",
       "      <td>45</td>\n",
       "      <td>117</td>\n",
       "      <td>148</td>\n",
       "      <td>406.0</td>\n",
       "    </tr>\n",
       "  </tbody>\n",
       "</table>\n",
       "</div>"
      ],
      "text/plain": [
       "   Duration  Pulse  Maxpulse  Calories\n",
       "0        60    110       130     409.1\n",
       "1        60    117       145     479.0\n",
       "2        60    103       135     340.0\n",
       "3        45    109       175     282.4\n",
       "4        45    117       148     406.0"
      ]
     },
     "execution_count": 14,
     "metadata": {},
     "output_type": "execute_result"
    }
   ],
   "source": [
    "dataset_drop = dataset.dropna(axis=True)\n",
    "dataset_drop.head()"
   ]
  }
 ],
 "metadata": {
  "kernelspec": {
   "display_name": "Python 3",
   "language": "python",
   "name": "python3"
  },
  "language_info": {
   "codemirror_mode": {
    "name": "ipython",
    "version": 3
   },
   "file_extension": ".py",
   "mimetype": "text/x-python",
   "name": "python",
   "nbconvert_exporter": "python",
   "pygments_lexer": "ipython3",
   "version": "3.11.5"
  }
 },
 "nbformat": 4,
 "nbformat_minor": 2
}

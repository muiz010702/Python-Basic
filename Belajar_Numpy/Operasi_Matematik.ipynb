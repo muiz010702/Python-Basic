{
 "cells": [
  {
   "cell_type": "code",
   "execution_count": 2,
   "metadata": {},
   "outputs": [],
   "source": [
    "import numpy as np"
   ]
  },
  {
   "cell_type": "markdown",
   "metadata": {},
   "source": [
    "perbedaan menggunakan array pada python dan numpy"
   ]
  },
  {
   "cell_type": "code",
   "execution_count": 4,
   "metadata": {},
   "outputs": [
    {
     "name": "stdout",
     "output_type": "stream",
     "text": [
      "============hasil array python============\n",
      "[20, 13, 15, 30, 10, 10, 20, 30, 40, 50]\n",
      "============hasil array numpy============\n",
      "[30 33 45 70 60]\n"
     ]
    }
   ],
   "source": [
    "# 1. penjumlahan \n",
    "#list array pada python\n",
    "A = [20,13,15,30,10]\n",
    "B = [10,20,30,40,50]\n",
    "\n",
    "#list array pada numpy\n",
    "AN = np.array([20,13,15,30,10])\n",
    "BN = np.array([10,20,30,40,50])\n",
    "\n",
    "# hasil pada array python\n",
    "print(\"============hasil array python============\")\n",
    "hasil1 = A+B\n",
    "print(hasil1)\n",
    "\n",
    "# hasil pada array numpy\n",
    "print(\"============hasil array numpy=============\")\n",
    "hasil2 = AN+BN\n",
    "print(hasil2)"
   ]
  },
  {
   "cell_type": "code",
   "execution_count": 6,
   "metadata": {},
   "outputs": [
    {
     "name": "stdout",
     "output_type": "stream",
     "text": [
      "============hasil array numpy=============\n",
      "[ 10  -7 -15 -10 -40]\n"
     ]
    }
   ],
   "source": [
    "# 2. pengurangan\n",
    "\n",
    "#list array pada numpy\n",
    "AN = np.array([20,13,15,30,10])\n",
    "BN = np.array([10,20,30,40,50])\n",
    "\n",
    "# hasil pada array numpy\n",
    "print(\"============hasil array numpy=============\")\n",
    "hasil2 = AN-BN\n",
    "print(hasil2)"
   ]
  },
  {
   "cell_type": "code",
   "execution_count": 7,
   "metadata": {},
   "outputs": [
    {
     "name": "stdout",
     "output_type": "stream",
     "text": [
      "============hasil array numpy=============\n",
      "[2.   0.65 0.5  0.75 0.2 ]\n"
     ]
    }
   ],
   "source": [
    "# 3. pembagian\n",
    "\n",
    "#list array pada numpy\n",
    "AN = np.array([20,13,15,30,10])\n",
    "BN = np.array([10,20,30,40,50])\n",
    "\n",
    "# hasil pada array numpy\n",
    "print(\"============hasil array numpy=============\")\n",
    "hasil2 = AN / BN\n",
    "print(hasil2)"
   ]
  },
  {
   "cell_type": "code",
   "execution_count": 8,
   "metadata": {},
   "outputs": [
    {
     "name": "stdout",
     "output_type": "stream",
     "text": [
      "============hasil array numpy=============\n",
      "[ 200  260  450 1200  500]\n"
     ]
    }
   ],
   "source": [
    "# 4. perkalian\n",
    "#list array pada numpy\n",
    "AN = np.array([20,13,15,30,10])\n",
    "BN = np.array([10,20,30,40,50])\n",
    "\n",
    "# hasil pada array numpy\n",
    "print(\"============hasil array numpy=============\")\n",
    "hasil2 = AN * BN\n",
    "print(hasil2)"
   ]
  },
  {
   "cell_type": "code",
   "execution_count": 10,
   "metadata": {},
   "outputs": [
    {
     "name": "stdout",
     "output_type": "stream",
     "text": [
      "============hasil array numpy=============\n",
      "[400 169 225 900 100]\n",
      "[ 100  400  900 1600 2500]\n",
      "[ 500  569 1125 2500 2600]\n"
     ]
    }
   ],
   "source": [
    "# 5. Kuadrat\n",
    "#list array pada numpy\n",
    "AN = np.array([20,13,15,30,10])\n",
    "BN = np.array([10,20,30,40,50])\n",
    "\n",
    "# hasil pada array numpy\n",
    "print(\"============hasil array numpy=============\")\n",
    "hasil1 = AN**2\n",
    "hasil2 = BN**2\n",
    "hasil3 = hasil1 + hasil2\n",
    "print(hasil1)\n",
    "print(hasil2)\n",
    "print(hasil3)\n"
   ]
  },
  {
   "cell_type": "code",
   "execution_count": 11,
   "metadata": {},
   "outputs": [
    {
     "name": "stdout",
     "output_type": "stream",
     "text": [
      "[[30 33 45 70 60]\n",
      " [30 33 45 70 60]]\n"
     ]
    }
   ],
   "source": [
    "# 6. operasi matematik pada matrix \n",
    "AN = np.array(([20,13,15,30,10],[10,20,30,40,50]))\n",
    "BN = np.array(([10,20,30,40,50],[20,13,15,30,10]))\n",
    "hasil = AN + BN\n",
    "print(hasil)"
   ]
  }
 ],
 "metadata": {
  "kernelspec": {
   "display_name": "Python 3",
   "language": "python",
   "name": "python3"
  },
  "language_info": {
   "codemirror_mode": {
    "name": "ipython",
    "version": 3
   },
   "file_extension": ".py",
   "mimetype": "text/x-python",
   "name": "python",
   "nbconvert_exporter": "python",
   "pygments_lexer": "ipython3",
   "version": "3.11.5"
  }
 },
 "nbformat": 4,
 "nbformat_minor": 2
}

{
 "cells": [
  {
   "cell_type": "code",
   "execution_count": 4,
   "metadata": {},
   "outputs": [
    {
     "name": "stdout",
     "output_type": "stream",
     "text": [
      "spermulaan\n"
     ]
    }
   ],
   "source": [
    "print(\"spermulaan\")"
   ]
  },
  {
   "cell_type": "markdown",
   "metadata": {},
   "source": [
    "Mengimport package numpy dipython"
   ]
  },
  {
   "cell_type": "code",
   "execution_count": 2,
   "metadata": {},
   "outputs": [],
   "source": [
    "import numpy as np"
   ]
  },
  {
   "cell_type": "markdown",
   "metadata": {},
   "source": [
    "membuat vektor "
   ]
  },
  {
   "cell_type": "code",
   "execution_count": 3,
   "metadata": {},
   "outputs": [
    {
     "name": "stdout",
     "output_type": "stream",
     "text": [
      "[1 2 3 4 5]\n",
      "[1.5 2.  2.5 3.  3.5 4.  4.5 5. ]\n"
     ]
    }
   ],
   "source": [
    "A = np.array([1,2,3,4,5])\n",
    "B = np.array([1.5, 2, 2.5, 3, 3.5, 4, 4.5, 5])\n",
    "print(A)\n",
    "print(B)"
   ]
  },
  {
   "cell_type": "markdown",
   "metadata": {},
   "source": [
    "membuat vektor dengan range"
   ]
  },
  {
   "cell_type": "code",
   "execution_count": 4,
   "metadata": {},
   "outputs": [
    {
     "name": "stdout",
     "output_type": "stream",
     "text": [
      "[ 1  4  7 10 13 16 19]\n",
      "[ 1.   1.5  2.   2.5  3.   3.5  4.   4.5  5.   5.5  6.   6.5  7.   7.5\n",
      "  8.   8.5  9.   9.5 10.  10.5 11.  11.5 12.  12.5 13.  13.5 14.  14.5]\n"
     ]
    }
   ],
   "source": [
    "C = np.arange(1,20,3)# vektor dengan rangkap 3\n",
    "D = np.arange(1,15,0.5)# vektor dengan rangkap 0,5\n",
    "print(C)\n",
    "print(D)"
   ]
  },
  {
   "cell_type": "markdown",
   "metadata": {},
   "source": [
    "membuat vektor dengan linspace"
   ]
  },
  {
   "cell_type": "markdown",
   "metadata": {},
   "source": [
    "Fungsi linspace dalam NumPy digunakan untuk membuat array berisi deret bilangan dengan jarak yang sama antara nilai awal dan akhir yang ditentukan. Istilah \"linspace\" sendiri adalah singkatan dari \"linear space\", yang menunjukkan bahwa bilangan dalam array yang dihasilkan akan memiliki jarak yang sama di antara mereka."
   ]
  },
  {
   "cell_type": "code",
   "execution_count": 5,
   "metadata": {},
   "outputs": [
    {
     "name": "stdout",
     "output_type": "stream",
     "text": [
      "[ 1.          2.35714286  3.71428571  5.07142857  6.42857143  7.78571429\n",
      "  9.14285714 10.5        11.85714286 13.21428571 14.57142857 15.92857143\n",
      " 17.28571429 18.64285714 20.        ]\n",
      "[ 1.  4.  7. 10.]\n"
     ]
    }
   ],
   "source": [
    "E = np.linspace(1,20,15)\n",
    "F = np.linspace(1,10,4)\n",
    "print(E)\n",
    "print(F)"
   ]
  },
  {
   "cell_type": "markdown",
   "metadata": {},
   "source": [
    "Membuat array multidimensi / matrix"
   ]
  },
  {
   "cell_type": "code",
   "execution_count": 6,
   "metadata": {},
   "outputs": [
    {
     "name": "stdout",
     "output_type": "stream",
     "text": [
      "[[ 1  2  3  4  5]\n",
      " [ 6  7  8  9 10]]\n",
      "[[ 4  5  6  7  8]\n",
      " [ 9 10 11 12 13]]\n"
     ]
    }
   ],
   "source": [
    "G = np.array([(1,2,3,4,5), (6,7,8,9,10)])\n",
    "H = np.array([(1,2,3,4,5), (6,7,8,9,10)])\n",
    "print(G)\n",
    "print(H+3) # jika matrix H ditambahkan angka berapapun maka semua komponen yang ada \n",
    "           # di dalam matrix tersebut akan di tambah "
   ]
  },
  {
   "cell_type": "markdown",
   "metadata": {},
   "source": [
    "membuat matrix dengan nilai 0 menggunakan package zeros "
   ]
  },
  {
   "cell_type": "markdown",
   "metadata": {},
   "source": [
    "fungsi zeros digunakan untuk membuat array berisi nol"
   ]
  },
  {
   "cell_type": "code",
   "execution_count": 7,
   "metadata": {},
   "outputs": [
    {
     "name": "stdout",
     "output_type": "stream",
     "text": [
      "[0. 0. 0. 0. 0.]\n",
      "[[0. 0. 0. 0.]\n",
      " [0. 0. 0. 0.]\n",
      " [0. 0. 0. 0.]\n",
      " [0. 0. 0. 0.]]\n"
     ]
    }
   ],
   "source": [
    "I = np.zeros(5)\n",
    "J = np.zeros((4,4))\n",
    "print(I)\n",
    "print(J)"
   ]
  },
  {
   "cell_type": "markdown",
   "metadata": {},
   "source": [
    "membuat matrix dengan nilai 0 menggunakan package ones"
   ]
  },
  {
   "cell_type": "markdown",
   "metadata": {},
   "source": [
    " fungsi ones digunakan untuk membuat array berisi satu"
   ]
  },
  {
   "cell_type": "code",
   "execution_count": 11,
   "metadata": {},
   "outputs": [
    {
     "name": "stdout",
     "output_type": "stream",
     "text": [
      "[0. 0. 0.]\n",
      "[[0. 0. 0. 0. 0. 0. 0. 0.]\n",
      " [0. 0. 0. 0. 0. 0. 0. 0.]\n",
      " [0. 0. 0. 0. 0. 0. 0. 0.]\n",
      " [0. 0. 0. 0. 0. 0. 0. 0.]]\n",
      "[[3 3 3 3 3 3 3 3]\n",
      " [3 3 3 3 3 3 3 3]\n",
      " [3 3 3 3 3 3 3 3]\n",
      " [3 3 3 3 3 3 3 3]]\n"
     ]
    }
   ],
   "source": [
    "K = np.zeros(3)\n",
    "L = np.zeros((4,8))\n",
    "M = np.full((4,8), 3)# full digunakan untuk mengisi semua elemen dalam matrix dengan angka tertentu\n",
    "print(K)\n",
    "print(L)\n",
    "print(M)"
   ]
  },
  {
   "cell_type": "markdown",
   "metadata": {},
   "source": [
    "membuat matrix identity / identitas "
   ]
  },
  {
   "cell_type": "code",
   "execution_count": 12,
   "metadata": {},
   "outputs": [
    {
     "name": "stdout",
     "output_type": "stream",
     "text": [
      "[[1. 0. 0. 0.]\n",
      " [0. 1. 0. 0.]\n",
      " [0. 0. 1. 0.]\n",
      " [0. 0. 0. 1.]]\n"
     ]
    }
   ],
   "source": [
    "N = np.identity(4)\n",
    "print(N)"
   ]
  }
 ],
 "metadata": {
  "kernelspec": {
   "display_name": "Python 3",
   "language": "python",
   "name": "python3"
  },
  "language_info": {
   "codemirror_mode": {
    "name": "ipython",
    "version": 3
   },
   "file_extension": ".py",
   "mimetype": "text/x-python",
   "name": "python",
   "nbconvert_exporter": "python",
   "pygments_lexer": "ipython3",
   "version": "3.11.5"
  }
 },
 "nbformat": 4,
 "nbformat_minor": 2
}

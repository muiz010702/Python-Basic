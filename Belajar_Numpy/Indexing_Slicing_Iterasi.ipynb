{
 "cells": [
  {
   "cell_type": "code",
   "execution_count": 1,
   "metadata": {},
   "outputs": [],
   "source": [
    "import numpy as np"
   ]
  },
  {
   "cell_type": "code",
   "execution_count": 8,
   "metadata": {},
   "outputs": [
    {
     "name": "stdout",
     "output_type": "stream",
     "text": [
      "[ 0  1  8 27 64]\n",
      "elemen ke 3 dari A adalah =  8\n",
      "elemen ke 4 dari A adalah =  27\n",
      "elemen ke awal dari A adalah =  0\n",
      "elemen ke 3 akhir dari A adalah =  64\n"
     ]
    }
   ],
   "source": [
    "#1. indexing atau mengambil nilai\n",
    "A = np.arange(5)**3\n",
    "print(A)\n",
    "print('elemen ke 3 dari A adalah = ', A[2])\n",
    "print('elemen ke 4 dari A adalah = ', A[3])\n",
    "print('elemen ke awal dari A adalah = ', A[0])\n",
    "print('elemen ke 3 akhir dari A adalah = ', A[-1])"
   ]
  },
  {
   "cell_type": "code",
   "execution_count": 9,
   "metadata": {},
   "outputs": [
    {
     "name": "stdout",
     "output_type": "stream",
     "text": [
      "[ 0  1  8 27 64]\n",
      "elemen ke 3 sampai akhir dari A adalah =  [ 8 27 64]\n",
      "elemen ke awal sampai 4 dari A adalah =  [ 0  1  8 27]\n",
      "elemen ke 2 sampai 5 dari A adalah =  [ 8 27 64]\n"
     ]
    }
   ],
   "source": [
    "#2. slicing atau mengambil nilai dari rentang data\n",
    "A = np.arange(5)**3\n",
    "print(A)\n",
    "print('elemen ke 3 sampai akhir dari A adalah = ', A[2:])\n",
    "print('elemen ke awal sampai 4 dari A adalah = ', A[:4])\n",
    "print('elemen ke 2 sampai 5 dari A adalah = ', A[2:5])"
   ]
  },
  {
   "cell_type": "code",
   "execution_count": 13,
   "metadata": {},
   "outputs": [
    {
     "name": "stdout",
     "output_type": "stream",
     "text": [
      "nilai =  0\n",
      "nilai =  1\n",
      "nilai =  8\n",
      "nilai =  27\n",
      "nilai =  64\n"
     ]
    }
   ],
   "source": [
    "#3. iterasi \n",
    "for B in A:\n",
    "    print('nilai = ',B)"
   ]
  }
 ],
 "metadata": {
  "kernelspec": {
   "display_name": "Python 3",
   "language": "python",
   "name": "python3"
  },
  "language_info": {
   "codemirror_mode": {
    "name": "ipython",
    "version": 3
   },
   "file_extension": ".py",
   "mimetype": "text/x-python",
   "name": "python",
   "nbconvert_exporter": "python",
   "pygments_lexer": "ipython3",
   "version": "3.11.5"
  }
 },
 "nbformat": 4,
 "nbformat_minor": 2
}
